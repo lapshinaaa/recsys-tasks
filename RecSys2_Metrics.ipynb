{
  "cells": [
    {
      "cell_type": "markdown",
      "metadata": {
        "id": "view-in-github",
        "colab_type": "text"
      },
      "source": [
        "<a href=\"https://colab.research.google.com/github/lapshinaaa/recsys-tasks/blob/main/RecSys2_Metrics.ipynb\" target=\"_parent\"><img src=\"https://colab.research.google.com/assets/colab-badge.svg\" alt=\"Open In Colab\"/></a>"
      ]
    },
    {
      "cell_type": "markdown",
      "id": "5dc95113-205d-4d9a-9fec-2fb02ba92091",
      "metadata": {
        "id": "5dc95113-205d-4d9a-9fec-2fb02ba92091"
      },
      "source": [
        "<h1><center>Recommender Systems — Notebook #2</center></h1>\n",
        "\n",
        "<center>\n",
        "<img src=\"https://avatars.mds.yandex.net/get-grocery-goods/2783132/ab847ff6-95e3-4c4e-831a-0576d1949a9e/orig\" width=\"300\" />\n",
        "</center>\n",
        "\n",
        "**In this notebook, we will work through the following:**\n",
        "\n",
        "- Explore the dataset of user interaction events from the **Yandex Lavka** application.\n",
        "- Review the course competition (Kaggle contest):  \n",
        "  https://www.kaggle.com/t/eb7d5a01648e4e7cb0dfa404d29497ea\n",
        "- Implement a **baseline recommender model**.\n",
        "- Train more advanced models (e.g., **CatBoost** for ranking).\n",
        "- Implement several **new ranking quality metrics**."
      ]
    },
    {
      "cell_type": "code",
      "execution_count": null,
      "id": "623c9525-f108-4ecc-b43d-e0742129a4d9",
      "metadata": {
        "id": "623c9525-f108-4ecc-b43d-e0742129a4d9"
      },
      "outputs": [],
      "source": [
        "# !pip install catboost\n",
        "\n",
        "# !pip install numpy==1.23.5"
      ]
    },
    {
      "cell_type": "code",
      "execution_count": null,
      "id": "1a5233cd-e11a-4dd4-8048-05dea6c80d2d",
      "metadata": {
        "id": "1a5233cd-e11a-4dd4-8048-05dea6c80d2d"
      },
      "outputs": [],
      "source": [
        "import zipfile\n",
        "import requests\n",
        "\n",
        "import numpy as np\n",
        "import polars as pl\n",
        "import seaborn as sns\n",
        "import matplotlib.pyplot as plt\n",
        "\n",
        "from PIL import Image\n",
        "from io import BytesIO\n",
        "from textwrap import wrap\n",
        "from tqdm.auto import tqdm\n",
        "from concurrent.futures import ThreadPoolExecutor\n",
        "from sklearn.metrics import roc_auc_score, log_loss, ndcg_score"
      ]
    },
    {
      "cell_type": "markdown",
      "id": "74eed951-36ac-4251-a1a9-cb5c21ad132e",
      "metadata": {
        "id": "74eed951-36ac-4251-a1a9-cb5c21ad132e"
      },
      "source": [
        "# 🗄 Dataset:"
      ]
    },
    {
      "cell_type": "code",
      "execution_count": null,
      "id": "7b2c6394-9549-4d69-9e51-4bbeb10e2097",
      "metadata": {
        "id": "7b2c6394-9549-4d69-9e51-4bbeb10e2097"
      },
      "outputs": [],
      "source": [
        "def download_and_extract(url: str, filename: str, chunk_size: int = 1024):\n",
        "    # load the file\n",
        "    response = requests.get(url, stream=True)\n",
        "    response.raise_for_status()\n",
        "\n",
        "    total_size = int(response.headers.get('content-length', 0))\n",
        "\n",
        "    # write the file\n",
        "    with open(filename, \"wb\") as f:\n",
        "        with tqdm(\n",
        "            total=total_size,\n",
        "            unit='B',\n",
        "            unit_scale=True,\n",
        "            desc=filename,\n",
        "            bar_format='{l_bar}{bar:50}{r_bar}{bar:-50b}'  # формат для красоты\n",
        "        ) as pbar:\n",
        "            for chunk in response.iter_content(chunk_size=chunk_size):\n",
        "                if chunk:\n",
        "                    f.write(chunk)\n",
        "                    pbar.update(len(chunk))\n",
        "\n",
        "    # inzip archive\n",
        "    with zipfile.ZipFile(filename, \"r\") as zip_ref:\n",
        "        print(f\"\\nРаспаковываем {filename}...\")\n",
        "        zip_ref.extractall(\".\")\n",
        "        print(f\"Файлы из {filename} успешно извлечены\\n\")"
      ]
    },
    {
      "cell_type": "code",
      "execution_count": null,
      "id": "37fe0506-db40-4643-8a84-2f49135e5709",
      "metadata": {
        "id": "37fe0506-db40-4643-8a84-2f49135e5709"
      },
      "outputs": [],
      "source": [
        "download_and_extract(\n",
        "    url=\"https://www.kaggle.com/api/v1/datasets/download/thekabeton/ysda-recsys-2025-lavka-dataset\",\n",
        "    filename=\"lavka.zip\"\n",
        ")"
      ]
    },
    {
      "cell_type": "code",
      "execution_count": null,
      "id": "b16cec3a-cb3b-4e50-9b96-a0752c1c0020",
      "metadata": {
        "id": "b16cec3a-cb3b-4e50-9b96-a0752c1c0020"
      },
      "outputs": [],
      "source": [
        "train = pl.read_parquet('train.parquet')\n",
        "test = pl.read_parquet('test.parquet')\n",
        "\n",
        "# for kaggle: train = train.sample(200000, shuffle=True)\n",
        "\n",
        "train.head(100)"
      ]
    },
    {
      "cell_type": "code",
      "execution_count": null,
      "id": "acb33637-b676-4b3d-b5f8-ef1a51a3fd9b",
      "metadata": {
        "id": "acb33637-b676-4b3d-b5f8-ef1a51a3fd9b"
      },
      "outputs": [],
      "source": [
        "test.head(5)"
      ]
    },
    {
      "cell_type": "markdown",
      "id": "04c87891-54d0-402b-8a3e-90c4ad64e076",
      "metadata": {
        "id": "04c87891-54d0-402b-8a3e-90c4ad64e076"
      },
      "source": [
        "# 👀 Taking a look at the dataset"
      ]
    },
    {
      "cell_type": "code",
      "execution_count": null,
      "id": "429b910a-98cf-4cca-914d-22ec005acdf1",
      "metadata": {
        "id": "429b910a-98cf-4cca-914d-22ec005acdf1"
      },
      "outputs": [],
      "source": [
        "train.group_by(\n",
        "    \"action_type\"\n",
        ").agg(\n",
        "    pl.len().alias(\"total_actions\")\n",
        ")"
      ]
    },
    {
      "cell_type": "code",
      "execution_count": null,
      "id": "c75bcdf8-c74d-4bbb-80a2-3f0b4a899c76",
      "metadata": {
        "id": "c75bcdf8-c74d-4bbb-80a2-3f0b4a899c76"
      },
      "outputs": [],
      "source": [
        "city_analysis = train.group_by(\"city_name\").agg(\n",
        "    pl.len().alias(\"actions_count\")\n",
        ").sort(\"actions_count\", descending=True)\n",
        "\n",
        "plt.figure(figsize=(10, 6))\n",
        "sns.barplot(\n",
        "    x=\"city_name\",\n",
        "    y=\"actions_count\",\n",
        "    data=city_analysis.to_pandas()\n",
        ")\n",
        "plt.title(\"Распределение просмотров по городам\")\n",
        "plt.xlabel(\"Город\")\n",
        "plt.ylabel(\"Количество просмотров\")\n",
        "plt.xticks(rotation=45)\n",
        "plt.tight_layout()\n",
        "plt.show()"
      ]
    },
    {
      "cell_type": "markdown",
      "id": "751bf89e-68da-424f-a8c3-cf83e16aeec9",
      "metadata": {
        "id": "751bf89e-68da-424f-a8c3-cf83e16aeec9"
      },
      "source": [
        "### Посмотрим на самые популярные покупки:"
      ]
    },
    {
      "cell_type": "code",
      "execution_count": null,
      "id": "eeca7db5-40ab-45a9-a00c-73f9f2f3bdc4",
      "metadata": {
        "id": "eeca7db5-40ab-45a9-a00c-73f9f2f3bdc4"
      },
      "outputs": [],
      "source": [
        "top_10 = train.filter(\n",
        "    pl.col('action_type') == 'AT_Purchase'\n",
        ").group_by(\n",
        "    'product_name'\n",
        ").agg(\n",
        "    pl.len().alias(\"total_purchase\"),\n",
        "    pl.col('product_image').first()\n",
        ").sort(\n",
        "    'total_purchase', descending=True\n",
        ").head(10)\n",
        "\n",
        "top_10"
      ]
    },
    {
      "cell_type": "code",
      "execution_count": null,
      "id": "38d4b984-1120-424a-add7-251772842f9e",
      "metadata": {
        "id": "38d4b984-1120-424a-add7-251772842f9e"
      },
      "outputs": [],
      "source": [
        "def load_poster(row):\n",
        "    title, poster_url = row[0], row[2]\n",
        "    try:\n",
        "        response = requests.get(poster_url, timeout=20)\n",
        "        response.raise_for_status()\n",
        "        return Image.open(BytesIO(response.content)), title\n",
        "\n",
        "    except Exception as e:\n",
        "        print(f\"Error loading poster for '{title}': {e}\")\n",
        "        return None, None\n",
        "\n",
        "def show_posters(data):\n",
        "    fig, axes = plt.subplots(2, 5, figsize=(20, 10))\n",
        "    plt.subplots_adjust(hspace=0.5, wspace=0.3)\n",
        "\n",
        "    rows = [row for row in data.iter_rows()]\n",
        "\n",
        "    with ThreadPoolExecutor(max_workers=10) as executor:\n",
        "        results = list(executor.map(load_poster, rows))\n",
        "\n",
        "    for idx, (img, title) in enumerate(results):\n",
        "        ax = axes[idx//5, idx%5]\n",
        "        if img and title:\n",
        "            ax.imshow(img)\n",
        "            wrapped_title = \"\\n\".join(wrap(title, width=40))\n",
        "            ax.set_title(wrapped_title)\n",
        "        else:\n",
        "            ax.set_title(\"Image not available\", fontsize=10)\n",
        "        ax.axis('off')\n",
        "\n",
        "    plt.tight_layout()\n",
        "    plt.show()"
      ]
    },
    {
      "cell_type": "code",
      "execution_count": null,
      "id": "b49f7a33-8c80-4847-a9a0-50358006f54f",
      "metadata": {
        "id": "b49f7a33-8c80-4847-a9a0-50358006f54f"
      },
      "outputs": [],
      "source": [
        "show_posters(top_10)"
      ]
    },
    {
      "cell_type": "markdown",
      "id": "99373866-9e70-430a-ab55-d5b203576a2a",
      "metadata": {
        "id": "99373866-9e70-430a-ab55-d5b203576a2a"
      },
      "source": [
        "# 🎲 Рандомный сабмит:"
      ]
    },
    {
      "cell_type": "code",
      "execution_count": null,
      "id": "46814c3c-91a1-4111-b7f3-3243d41813ce",
      "metadata": {
        "id": "46814c3c-91a1-4111-b7f3-3243d41813ce"
      },
      "outputs": [],
      "source": [
        "random_submit = test.select(\n",
        "    'index',\n",
        "    'request_id'\n",
        ").sample(\n",
        "    fraction=1.0,\n",
        "    shuffle=True\n",
        ")\n",
        "\n",
        "# random_submit.write_csv('random_submit.csv')\n",
        "\n",
        "random_submit"
      ]
    },
    {
      "cell_type": "markdown",
      "id": "ec786b80-d57b-4a05-9027-8613bd274a36",
      "metadata": {
        "id": "ec786b80-d57b-4a05-9027-8613bd274a36"
      },
      "source": [
        "# 📈 Бейзлайн:"
      ]
    },
    {
      "cell_type": "code",
      "execution_count": null,
      "id": "1ddf6e23-fbaf-49dd-9998-2be79c069f75",
      "metadata": {
        "id": "1ddf6e23-fbaf-49dd-9998-2be79c069f75"
      },
      "outputs": [],
      "source": [
        "count_purchase_in_train = train.filter(\n",
        "    pl.col('action_type') == \"AT_Purchase\"\n",
        ").group_by(\n",
        "    'user_id',\n",
        "    'product_id'\n",
        ").agg(\n",
        "    pl.len()\n",
        ")\n",
        "\n",
        "count_purchase_in_train"
      ]
    },
    {
      "cell_type": "code",
      "execution_count": null,
      "id": "7db4cc85-3c6d-49a8-902c-b5dac13a726c",
      "metadata": {
        "id": "7db4cc85-3c6d-49a8-902c-b5dac13a726c"
      },
      "outputs": [],
      "source": [
        "baseline_submit = test.join(\n",
        "    count_purchase_in_train,\n",
        "    on=[\"user_id\", \"product_id\"],\n",
        "    how=\"left\"\n",
        ").with_columns(\n",
        "    pl.col(\"len\").fill_null(0)\n",
        ").sort(\n",
        "    'len',\n",
        "    descending=True\n",
        ").select(\n",
        "    'index',\n",
        "    'request_id'\n",
        ")\n",
        "\n",
        "# baseline_submit.write_csv('baseline_submit.csv')\n",
        "\n",
        "baseline_submit"
      ]
    },
    {
      "cell_type": "markdown",
      "id": "a56f59eb-dadd-4318-9991-1626ed5d24e0",
      "metadata": {
        "id": "a56f59eb-dadd-4318-9991-1626ed5d24e0"
      },
      "source": [
        "# 🦾 CatBoost\n",
        "\n",
        "<center><img src=\"Timesplit1.svg\" width=\"1100\" /></center>\n",
        "\n",
        "\n",
        "Давайте соберём какие-то фичи из данных и обучим на них градиентный бустинг. Нужно не забывать про временные лики. Нельзя давать модели видеть данные из будущего, поэтому фичи для каждого семпла должны быть посчитаны на данных из прошлого. В простейшей схеме предлагается разделить размеченые данные на 3 части:\n",
        "- Вторая часть - train\n",
        "- Третья часть - validation\n",
        "- Первую часть используем для расчёта статистик для трейна\n",
        "- Для валидации считаем статистики используя первую и вторую части вместе"
      ]
    },
    {
      "cell_type": "markdown",
      "id": "49709ed2-f915-4b43-b446-f5c041f8c092",
      "metadata": {
        "id": "49709ed2-f915-4b43-b446-f5c041f8c092"
      },
      "source": [
        "#### Делим train на 3 части:"
      ]
    },
    {
      "cell_type": "code",
      "execution_count": null,
      "id": "b7d44856-a905-4506-9fa8-5caa9752bf38",
      "metadata": {
        "id": "b7d44856-a905-4506-9fa8-5caa9752bf38"
      },
      "outputs": [],
      "source": [
        "train_len_div3 = int(len(train) / 3)\n",
        "\n",
        "train = train.sort(\n",
        "    'timestamp'\n",
        ")\n",
        "\n",
        "train_part1 = train[:train_len_div3]\n",
        "train_part2 = train[train_len_div3:train_len_div3 * 2]\n",
        "train_part3 = train[train_len_div3 * 2:]"
      ]
    },
    {
      "cell_type": "markdown",
      "id": "77ebf719-201b-4983-a7dc-8dce992d484b",
      "metadata": {
        "id": "77ebf719-201b-4983-a7dc-8dce992d484b"
      },
      "source": [
        "Посчитаем количество покупок каждого товара для каждого пользователя на первой части трейна:"
      ]
    },
    {
      "cell_type": "code",
      "execution_count": null,
      "id": "0e10f5ef-c31a-4e4d-8d72-d1ad0b43e6c6",
      "metadata": {
        "id": "0e10f5ef-c31a-4e4d-8d72-d1ad0b43e6c6"
      },
      "outputs": [],
      "source": [
        "def calculate_count_purchase_by_user_and_product(dataset: pl.DataFrame) -> pl.DataFrame:\n",
        "    count_purchase_by_user_and_product = dataset.filter(\n",
        "        pl.col('action_type') == \"AT_Purchase\"\n",
        "    ).group_by(\n",
        "        'user_id',\n",
        "        'product_id'\n",
        "    ).agg(\n",
        "        pl.len().alias('count_purchase_by_user_and_product')\n",
        "    )\n",
        "\n",
        "    return count_purchase_by_user_and_product\n",
        "\n",
        "count_purchase_by_user_and_product_for_train = calculate_count_purchase_by_user_and_product(train_part1)\n",
        "\n",
        "assert set(count_purchase_by_user_and_product_for_train.columns) == set(['user_id', 'product_id', 'count_purchase_by_user_and_product'])\n",
        "\n",
        "count_purchase_by_user_and_product_for_train.head(5)"
      ]
    },
    {
      "cell_type": "markdown",
      "id": "02e67d37-1703-473a-b9d3-a27927f27a4d",
      "metadata": {
        "id": "02e67d37-1703-473a-b9d3-a27927f27a4d"
      },
      "source": [
        "Теперь посчитаем CTR товаров по всем юзерам.\n",
        "\n",
        "CTR (Click-Through Rate) — коэффициент кликабельности, отношение количесва кликов к количеству показов.\n",
        "\n",
        "В нашем случае - отношение AT_Click к AT_View.\n",
        "\n",
        "Посчитаем CTR для каждого товара на первой части трейна:"
      ]
    },
    {
      "cell_type": "code",
      "execution_count": null,
      "id": "d40ef8e6-1e67-4b3f-bcf8-42879e1d1e47",
      "metadata": {
        "id": "d40ef8e6-1e67-4b3f-bcf8-42879e1d1e47"
      },
      "outputs": [],
      "source": [
        "def calculate_ctr(dataset: pl.DataFrame) -> pl.DataFrame:\n",
        "    data = train_part1.group_by(\n",
        "        'action_type',\n",
        "        'product_id'\n",
        "    ).agg(\n",
        "        pl.len()\n",
        "    )\n",
        "\n",
        "    clicks = data.filter(\n",
        "         pl.col('action_type') == \"AT_Click\"\n",
        "    )\n",
        "\n",
        "    views = data.filter(\n",
        "         pl.col('action_type') == \"AT_View\"\n",
        "    )\n",
        "\n",
        "    ctr = clicks.join(\n",
        "        views,\n",
        "        on='product_id'\n",
        "    ).with_columns(\n",
        "        ctr=pl.col('len') / pl.col('len_right')\n",
        "    ).select(\n",
        "        'product_id',\n",
        "        'ctr'\n",
        "    )\n",
        "\n",
        "    return ctr\n",
        "\n",
        "ctr_for_train = calculate_ctr(train_part1)\n",
        "\n",
        "assert set(ctr_for_train.columns) == set(['product_id', 'ctr'])\n",
        "\n",
        "ctr_for_train.head(5)"
      ]
    },
    {
      "cell_type": "markdown",
      "id": "5b94e443-9543-470b-8efd-be7afda4bc41",
      "metadata": {
        "id": "5b94e443-9543-470b-8efd-be7afda4bc41"
      },
      "source": [
        "Создаём тренировочный пул для катбуста. Берём события из второй части датасета и клеим к ним созданные фичи:"
      ]
    },
    {
      "cell_type": "code",
      "execution_count": null,
      "id": "aeec3bf4-18e4-4bde-bfdc-fc7240003621",
      "metadata": {
        "id": "aeec3bf4-18e4-4bde-bfdc-fc7240003621"
      },
      "outputs": [],
      "source": [
        "def join_features_to_dataset(\n",
        "    dataset: pl.DataFrame,\n",
        "    count_purchase_by_user_and_product: pl.DataFrame,\n",
        "    ctr: pl.DataFrame\n",
        ") -> pl.DataFrame:\n",
        "    catboost_pool = dataset.filter(\n",
        "        pl.col('action_type').is_in([\"AT_View\", \"AT_CartUpdate\"])\n",
        "    ).with_columns(\n",
        "        target=pl.when(pl.col('action_type') == \"AT_View\").then(0).otherwise(1)\n",
        "    ).group_by(\n",
        "        ['product_id', 'request_id']\n",
        "    ).max().drop(\n",
        "        'source_type',\n",
        "        'store_id',\n",
        "        'timestamp',\n",
        "        'product_image',\n",
        "        'product_name',\n",
        "        'city_name',\n",
        "        'position_in_request',\n",
        "        'product_category',\n",
        "        'action_type'\n",
        "    ).join(\n",
        "        ctr,\n",
        "        on='product_id',\n",
        "        how='left'\n",
        "    ).join(\n",
        "        count_purchase_by_user_and_product,\n",
        "        on=['user_id', 'product_id'],\n",
        "        how='left'\n",
        "    )\n",
        "\n",
        "    return catboost_pool\n",
        "\n",
        "train_catboost = join_features_to_dataset(\n",
        "    train_part2,\n",
        "    calculate_count_purchase_by_user_and_product(train_part1),\n",
        "    calculate_ctr(train_part1)\n",
        ")\n",
        "\n",
        "assert set(train_catboost.columns) == set(['ctr', 'count_purchase_by_user_and_product', 'target', 'request_id', 'product_id', 'user_id'])\n",
        "\n",
        "train_catboost.head(5)"
      ]
    },
    {
      "cell_type": "markdown",
      "id": "9fabdc46-e1b8-49ce-b0f1-8662e4a19961",
      "metadata": {
        "id": "9fabdc46-e1b8-49ce-b0f1-8662e4a19961"
      },
      "source": [
        "Проделываем то-же самое для валидации. Фичи считаем по событиям из 1 и 2 части датасета. Затем клеим их к 3 части:"
      ]
    },
    {
      "cell_type": "code",
      "execution_count": null,
      "id": "9ef4f2e2-4f88-427c-af9d-6baeca57ca38",
      "metadata": {
        "id": "9ef4f2e2-4f88-427c-af9d-6baeca57ca38"
      },
      "outputs": [],
      "source": [
        "train_parts_1_2 = pl.concat([train_part1, train_part2])\n",
        "\n",
        "val_catboost = join_features_to_dataset(\n",
        "    train_part3,\n",
        "    calculate_count_purchase_by_user_and_product(train_parts_1_2),\n",
        "    calculate_ctr(train_parts_1_2)\n",
        ")\n",
        "\n",
        "val_catboost.head(5)"
      ]
    },
    {
      "cell_type": "markdown",
      "id": "dbac5558-171f-485d-b62d-c0b44f97ee1f",
      "metadata": {
        "id": "dbac5558-171f-485d-b62d-c0b44f97ee1f"
      },
      "source": [
        "#### Обучаем катбуст:"
      ]
    },
    {
      "cell_type": "code",
      "execution_count": null,
      "id": "c8e91069-6d37-43fe-b95f-ceae1f2f80cd",
      "metadata": {
        "id": "c8e91069-6d37-43fe-b95f-ceae1f2f80cd"
      },
      "outputs": [],
      "source": [
        "from catboost import CatBoostClassifier, Pool\n",
        "\n",
        "# Пример данных\n",
        "train_data = Pool(\n",
        "    data=train_catboost.drop(['target', 'request_id', 'product_id', 'user_id']).to_pandas(),\n",
        "    label=train_catboost['target'].to_list()\n",
        ")\n",
        "\n",
        "val_data = Pool(\n",
        "    data=val_catboost.drop(['target', 'request_id', 'product_id', 'user_id']).to_pandas(),\n",
        "    label=val_catboost['target'].to_list()\n",
        ")"
      ]
    },
    {
      "cell_type": "code",
      "execution_count": null,
      "id": "054f1c01-7d6d-4c6c-925b-2e68127d1fa2",
      "metadata": {
        "id": "054f1c01-7d6d-4c6c-925b-2e68127d1fa2"
      },
      "outputs": [],
      "source": [
        "model = CatBoostClassifier(\n",
        "    iterations=300,\n",
        "    learning_rate=0.01,\n",
        "    depth=2,\n",
        "    loss_function=\"Logloss\",\n",
        "    eval_metric=\"AUC\",\n",
        "    early_stopping_rounds=50,\n",
        ")"
      ]
    },
    {
      "cell_type": "code",
      "execution_count": null,
      "id": "682acda7-1073-42f1-be9c-c7f8c34356c6",
      "metadata": {
        "scrolled": true,
        "id": "682acda7-1073-42f1-be9c-c7f8c34356c6"
      },
      "outputs": [],
      "source": [
        "model.fit(\n",
        "    train_data,\n",
        "    eval_set=val_data,\n",
        "    # plot=True\n",
        ")"
      ]
    },
    {
      "cell_type": "code",
      "execution_count": null,
      "id": "2b99422e-1519-47a1-86dd-333e363a11be",
      "metadata": {
        "id": "2b99422e-1519-47a1-86dd-333e363a11be"
      },
      "outputs": [],
      "source": [
        "y_pred_proba = model.predict_proba(val_catboost.drop(['target']).to_pandas())[:, 1]\n",
        "\n",
        "roc_auc = roc_auc_score(val_catboost['target'].to_list(), y_pred_proba)\n",
        "print(f\"ROC AUC: {roc_auc:.4f}\")\n",
        "\n",
        "logloss = log_loss(val_catboost['target'].to_list(), y_pred_proba)\n",
        "print(f\"LogLoss: {logloss:.4f}\")"
      ]
    },
    {
      "cell_type": "markdown",
      "id": "f8525c04-825d-4681-8a07-5b46f8fe6ad9",
      "metadata": {
        "id": "f8525c04-825d-4681-8a07-5b46f8fe6ad9"
      },
      "source": [
        "#### Важности фичей:"
      ]
    },
    {
      "cell_type": "code",
      "execution_count": null,
      "id": "d2466071-91e0-4017-8e64-4243802614ea",
      "metadata": {
        "id": "d2466071-91e0-4017-8e64-4243802614ea"
      },
      "outputs": [],
      "source": [
        "for name, fstr in zip(model.feature_names_, model.feature_importances_):\n",
        "    print(name, ':', fstr)"
      ]
    },
    {
      "cell_type": "markdown",
      "id": "44aa55c8-fadb-4cfc-afa8-84d2d6660e76",
      "metadata": {
        "id": "44aa55c8-fadb-4cfc-afa8-84d2d6660e76"
      },
      "source": [
        "Переделаем функцию джойна для тестового датасета:"
      ]
    },
    {
      "cell_type": "code",
      "execution_count": null,
      "id": "f574aee8-6396-4fe5-85c4-89f962db8f52",
      "metadata": {
        "id": "f574aee8-6396-4fe5-85c4-89f962db8f52"
      },
      "outputs": [],
      "source": [
        "def join_features_to_val_dataset(\n",
        "    dataset: pl.DataFrame,\n",
        "    count_purchase_by_user_and_product: pl.DataFrame,\n",
        "    ctr: pl.DataFrame\n",
        ") -> pl.DataFrame:\n",
        "    catboost_pool = dataset.drop(\n",
        "        'source_type',\n",
        "        'store_id',\n",
        "        'timestamp',\n",
        "        'city_name',\n",
        "        'product_name',\n",
        "        'product_category',\n",
        "        'product_image'\n",
        "    ).join(\n",
        "        ctr,\n",
        "        on='product_id',\n",
        "        how='left'\n",
        "    ).join(\n",
        "        count_purchase_by_user_and_product,\n",
        "        on=['user_id', 'product_id'],\n",
        "        how='left'\n",
        "    )\n",
        "\n",
        "    catboost_pool = catboost_pool.drop(\n",
        "        'user_id',\n",
        "        'product_id',\n",
        "        'request_id'\n",
        "    )\n",
        "\n",
        "    return catboost_pool"
      ]
    },
    {
      "cell_type": "code",
      "execution_count": null,
      "id": "fa833bf5-3ea4-4d09-8b53-52658d604e17",
      "metadata": {
        "id": "fa833bf5-3ea4-4d09-8b53-52658d604e17"
      },
      "outputs": [],
      "source": [
        "kaggle_catboost = join_features_to_val_dataset(\n",
        "    test,\n",
        "    calculate_count_purchase_by_user_and_product(train),\n",
        "    calculate_ctr(train)\n",
        ")\n",
        "\n",
        "kaggle_catboost.head(5)"
      ]
    },
    {
      "cell_type": "code",
      "execution_count": null,
      "id": "0abf3683-803a-4469-8783-3aa4dd24f353",
      "metadata": {
        "id": "0abf3683-803a-4469-8783-3aa4dd24f353"
      },
      "outputs": [],
      "source": [
        "test_data = test['index', 'request_id']\n",
        "\n",
        "test_data.with_columns(\n",
        "    predict=model.predict_proba(kaggle_catboost.to_pandas())[:, 1]\n",
        ").sort(\n",
        "    'predict',\n",
        "    descending=True\n",
        ").select(\n",
        "    'index',\n",
        "    'request_id'\n",
        ").write_csv('cb_submit.csv')"
      ]
    },
    {
      "cell_type": "code",
      "execution_count": null,
      "id": "00ffa8c7-f150-4930-b1ff-309c2bb2dc17",
      "metadata": {
        "id": "00ffa8c7-f150-4930-b1ff-309c2bb2dc17"
      },
      "outputs": [],
      "source": [
        "val_catboost"
      ]
    },
    {
      "cell_type": "markdown",
      "id": "2d40e389-8bdd-4e41-903b-8c1c56791d61",
      "metadata": {
        "id": "2d40e389-8bdd-4e41-903b-8c1c56791d61"
      },
      "source": [
        "# 🎯 Метрики качества ранжирования"
      ]
    },
    {
      "cell_type": "code",
      "execution_count": null,
      "id": "011f7eea-b0f0-4d36-a156-3b82c72c6988",
      "metadata": {
        "id": "011f7eea-b0f0-4d36-a156-3b82c72c6988"
      },
      "outputs": [],
      "source": [
        "import sklearn\n",
        "\n",
        "catboost_predicts = val_catboost.with_columns(\n",
        "    predict=model.predict_proba(val_catboost.drop(['target']).to_pandas())[:, 1]\n",
        ")\n",
        "\n",
        "true = []\n",
        "pred = []\n",
        "\n",
        "for i in catboost_predicts.group_by('request_id'):\n",
        "    value = i[1].sort('target', descending=True)[:10]\n",
        "    if sum(value['target']) == 0:\n",
        "        continue\n",
        "    l = [0] * (10 - len(value['target']))\n",
        "    true.append(value['target'].to_list() + l)\n",
        "    pred.append(value['predict'].to_list() + l)"
      ]
    },
    {
      "cell_type": "markdown",
      "id": "4d62a529-36db-4e7b-ae36-af2590e5b843",
      "metadata": {
        "id": "4d62a529-36db-4e7b-ae36-af2590e5b843"
      },
      "source": [
        "# Формулы для MAP@K (Mean Average Precision at K)\n",
        "\n",
        "## 1. **Precision@K**\n",
        "Доля релевантных документов среди первых `K` результатов:\n",
        "$$\n",
        "\\text{Precision}@K = \\frac{\\text{Количество релевантных документов в топ-}K}{K}\n",
        "$$\n",
        "\n",
        "---\n",
        "\n",
        "## 2. **Average Precision@K (AP@K)**\n",
        "Средняя точность для одного запроса, учитывающая позиции релевантных документов в топ-`K`:\n",
        "$$\n",
        "\\text{AP}@K = \\frac{\\sum_{k=1}^{K} \\text{Precision}@k \\cdot \\text{rel}(k)}{\\text{Количество релевантных документов в топ-}K}\n",
        "$$\n",
        "- `rel(k)` = 1, если документ на позиции `k` релевантен, иначе 0.\n",
        "- Если в топ-`K` нет релевантных документов, то `AP@K = 0`.\n",
        "\n",
        "---\n",
        "\n",
        "## 3. **MAP@K (Mean Average Precision at K)**\n",
        "Среднее значение AP@K по всем запросам:\n",
        "$$\n",
        "\\text{MAP}@K = \\frac{1}{Q} \\sum_{q=1}^{Q} \\text{AP}@K^{(q)}\n",
        "$$\n",
        "- `Q` — общее количество запросов.\n",
        "-  $AP@K^{(q)}$ — Average Precision@K для запроса `q`."
      ]
    },
    {
      "cell_type": "code",
      "execution_count": null,
      "id": "760523a2-ae65-447c-b99f-67abdac593d3",
      "metadata": {
        "id": "760523a2-ae65-447c-b99f-67abdac593d3"
      },
      "outputs": [],
      "source": [
        "def ap_at_k(y_true, y_pred, k):\n",
        "    if np.sum(y_true) == 0:\n",
        "        return 0.0\n",
        "    sorted_indices = np.argsort(y_pred)[::-1]\n",
        "    top_k_indices = sorted_indices[:k]\n",
        "    y_true_k = y_true[top_k_indices]\n",
        "\n",
        "    cumulative_precision = 0.0\n",
        "    relevant_seen = 0\n",
        "    for i in range(len(y_true_k)):\n",
        "        if y_true_k[i]:\n",
        "            relevant_seen += 1\n",
        "            precision_at_i = relevant_seen / (i + 1)\n",
        "            cumulative_precision += precision_at_i\n",
        "\n",
        "    return cumulative_precision / relevant_seen\n",
        "\n",
        "def map_at_k(true_relevance, predicted_scores, k):\n",
        "    total_ap = 0.0\n",
        "\n",
        "    for y_true, y_pred in zip(true_relevance, predicted_scores):\n",
        "        y_true = np.array(y_true)\n",
        "        y_pred = np.array(y_pred)\n",
        "\n",
        "        ap = ap_at_k(y_true, y_pred, k)\n",
        "        total_ap += ap\n",
        "\n",
        "    return total_ap / len(true_relevance)\n",
        "\n",
        "custom_map = map_at_k(true, pred, 10)\n",
        "\n",
        "print(f\"MAP@10: {custom_map:.4f}\")"
      ]
    },
    {
      "cell_type": "markdown",
      "id": "988e32ee-4901-4da7-b255-6cf23dc1a6cb",
      "metadata": {
        "id": "988e32ee-4901-4da7-b255-6cf23dc1a6cb"
      },
      "source": [
        "# Формулы для NDCG (Normalized Discounted Cumulative Gain)\n",
        "\n",
        "## 1. **CG (Cumulative Gain)**\n",
        "Простая сумма релевантностей первых `p` документов в результатах ранжирования:\n",
        "$$\n",
        "\\text{CG}_p = \\sum_{i=1}^{p} \\text{rel}_i\n",
        "$$\n",
        "- `rel_i` — релевантность документа на позиции `i`.\n",
        "\n",
        "---\n",
        "\n",
        "## 2. **DCG (Discounted Cumulative Gain)**\n",
        "Учитывает порядок документов, дисконтируя релевантность на более низких позициях:\n",
        "$$\n",
        "\\text{DCG}_p = \\sum_{i=1}^{p} \\frac{\\text{rel}_i}{\\log_2(i + 1)}\n",
        "$$\n",
        "\n",
        "---\n",
        "\n",
        "## 3. **IDCG (Ideal DCG)**\n",
        "Максимально возможный DCG при идеальном порядке документов:\n",
        "$$\n",
        "\\text{IDCG}_p = \\sum_{i=1}^{p} \\frac{\\text{rel}_i^{\\text{(ideal)}}}{\\log_2(i + 1)}\n",
        "$$\n",
        "где $rel_i^{(ideal)}$ — релевантности документов, отсортированные по убыванию.\n",
        "\n",
        "---\n",
        "\n",
        "## 4. **NDCG (Normalized DCG)**\n",
        "Нормализованная версия DCG в диапазоне [0, 1]:\n",
        "$$\n",
        "\\text{NDCG}_p = \\frac{\\text{DCG}_p}{\\text{IDCG}_p}\n",
        "$$"
      ]
    },
    {
      "cell_type": "code",
      "execution_count": null,
      "id": "6240d5c8-e506-4aa2-969e-8c4e37bea50d",
      "metadata": {
        "id": "6240d5c8-e506-4aa2-969e-8c4e37bea50d"
      },
      "outputs": [],
      "source": [
        "def ndcg_at_10(true_relevance, predicted_scores):\n",
        "    ndcg = 0.0\n",
        "\n",
        "    for true, pred in zip(true_relevance, predicted_scores):\n",
        "        true = np.array(true)\n",
        "        pred = np.array(pred)\n",
        "\n",
        "        top_10_indices = np.argsort(pred)[::-1]\n",
        "        rels = true[top_10_indices]\n",
        "\n",
        "        dcg = 0.0\n",
        "        for i, rel in enumerate(rels, 1):\n",
        "            dcg += rel / np.log2(i + 1)\n",
        "\n",
        "        ideal_rels = sorted(true, reverse=True)\n",
        "        idcg = 0.0\n",
        "        for i, rel in enumerate(ideal_rels, 1):\n",
        "            idcg += rel / np.log2(i + 1)\n",
        "\n",
        "        ndcg += dcg / idcg\n",
        "\n",
        "    return ndcg / len(true_relevance)\n",
        "\n",
        "custom_ndcg = ndcg_at_10(true, pred)\n",
        "sklearn_ndcg = ndcg_score(true, pred, k=10, ignore_ties=True)\n",
        "\n",
        "print(f\"Custom NDCG@10: {custom_ndcg:.4f}\")\n",
        "print(f\"Sklearn NDCG@10: {sklearn_ndcg:.4f}\")\n",
        "\n",
        "assert abs(custom_ndcg - sklearn_ndcg) < 1e-4"
      ]
    },
    {
      "cell_type": "markdown",
      "id": "e23de264-4336-4b0a-abd6-851596d0068e",
      "metadata": {
        "id": "e23de264-4336-4b0a-abd6-851596d0068e"
      },
      "source": [
        "# Метрика Novelty в рекомендательных системах\n",
        "\n",
        "**Novelty** (новизна) отражает способность системы рекомендовать элементы, которые **новы** или **неизвестны** пользователю.  \n",
        "Novelty не требует, чтобы рекомендации были полезными — только **непривычными**. Основной подход к расчету:\n",
        "\n",
        "---\n",
        "\n",
        "## **На основе популярности элементов**\n",
        "Чем менее популярен элемент, тем выше его новизна:\n",
        "$$\n",
        "\\text{Novelty}(i) = 1 - \\text{Popularity}(i)\n",
        "$$\n",
        "- `Popularity(i)` — нормированная популярность элемента (например, доля пользователей, взаимодействовавших с `i`).\n",
        "\n",
        "**Средняя Novelty для списка рекомендаций**:\n",
        "$$\n",
        "\\text{Novelty}@K = \\frac{1}{K} \\sum_{i=1}^{K} \\left(1 - \\text{Popularity}(i)\\right)\n",
        "$$"
      ]
    },
    {
      "cell_type": "code",
      "execution_count": null,
      "id": "124f4768-b618-4474-ab48-9057f7a72d78",
      "metadata": {
        "id": "124f4768-b618-4474-ab48-9057f7a72d78"
      },
      "outputs": [],
      "source": [
        "total_purchasing_users = (\n",
        "    train_parts_1_2.filter(pl.col('action_type') == \"AT_Purchase\")\n",
        "    ['user_id'].unique().shape[0]\n",
        ")\n",
        "\n",
        "product_novelty_df = (\n",
        "    train_parts_1_2.filter(pl.col('action_type') == \"AT_Purchase\")\n",
        "    .group_by(['product_id', 'user_id'])\n",
        "    .agg()\n",
        "    .group_by('product_id')\n",
        "    .agg(\n",
        "        pl.len().alias('unique_buyers_count')\n",
        "    )\n",
        "    .with_columns(\n",
        "        novelty_score=1 - (pl.col('unique_buyers_count') / total_purchasing_users)\n",
        "    )\n",
        "    .drop('unique_buyers_count')\n",
        ")\n",
        "\n",
        "total_novelty_score = 0.0\n",
        "processed_requests_count = 0\n",
        "\n",
        "predicts_with_novelty = catboost_predicts.join(\n",
        "    product_novelty_df,\n",
        "    on='product_id',\n",
        "    how='left'\n",
        ").fill_null(1).group_by('request_id')\n",
        "\n",
        "for request_id, recommendations in predicts_with_novelty:\n",
        "\n",
        "    top10_recommendations = recommendations.sort('target', descending=True).head(10)\n",
        "    average_novelty = top10_recommendations['novelty_score'].mean()\n",
        "\n",
        "    if average_novelty is not None:\n",
        "        processed_requests_count += 1\n",
        "        total_novelty_score += average_novelty\n",
        "\n",
        "final_novelty_metric = total_novelty_score / processed_requests_count\n",
        "\n",
        "print(f\"Novelty@10: {final_novelty_metric:.4f}\")"
      ]
    },
    {
      "cell_type": "markdown",
      "id": "8a402635-e667-46e8-bdb0-ca2053f21c65",
      "metadata": {
        "id": "8a402635-e667-46e8-bdb0-ca2053f21c65"
      },
      "source": [
        "# Метрики для оценки Serendipity в рекомендательных системах\n",
        "\n",
        "**Serendipity** отражает способность системы рекомендовать неожиданные, но полезные элементы, выходящие за рамки очевидных предпочтений пользователя.  \n",
        "Измерение сложное, так как требует учета **релевантности** и **неожиданности**. Приведем основные подходы:\n",
        "\n",
        "---\n",
        "\n",
        "## 1. **Классическая формула (на основе ожиданий)**\n",
        "Серендипность = Релевантность × Неожиданность:\n",
        "$$\n",
        "\\text{Serendipity}(i) = \\text{Rel}(i) \\times \\left(1 - \\text{Prob}_{\\text{user}}(i)\\right)\n",
        "$$\n",
        "- `Rel(i)` — релевантность элемента `i` для пользователя (например, оценка или клик).\n",
        "- `Prob_user(i)` — вероятность того, что пользователь **ожидал** элемент `i` (например, на основе его истории).\n",
        "\n",
        "---\n",
        "\n",
        "## 2. **Метрика на основе популярности**\n",
        "Учитывает редкость рекомендации в общем контексте:\n",
        "$$\n",
        "\\text{Serendipity}(i) = \\text{Rel}(i) \\times \\left(1 - \\text{Popularity}(i)\\right)\n",
        "$$\n",
        "- `Popularity(i)` — нормированная популярность элемента `i` (например, доля пользователей, взаимодействовавших с ним)."
      ]
    },
    {
      "cell_type": "code",
      "execution_count": null,
      "id": "4b0554a0-e0d9-4f86-870c-5d2be1ac0336",
      "metadata": {
        "id": "4b0554a0-e0d9-4f86-870c-5d2be1ac0336"
      },
      "outputs": [],
      "source": [
        "user_product_purchase_history = (\n",
        "    train_parts_1_2.filter(pl.col('action_type') == \"AT_Purchase\")\n",
        "    .group_by(['user_id', 'product_id'])\n",
        "    .agg(\n",
        "        pl.lit(1).alias('has_purchased')\n",
        "    )\n",
        ")\n",
        "\n",
        "total_serendipity_score = 0.0\n",
        "processed_recommendation_requests = 0\n",
        "\n",
        "predicts_with_history = catboost_predicts.join(\n",
        "    user_product_purchase_history,\n",
        "    on=['user_id', 'product_id'],\n",
        "    how='left'\n",
        ").with_columns(\n",
        "    pl.col('has_purchased').fill_null(0)\n",
        ").group_by('request_id')\n",
        "\n",
        "for request_id, recommendations in predicts_with_history:\n",
        "    top10_recommendations = recommendations.sort('target', descending=True).head(10)\n",
        "\n",
        "    serendipity_values = (1 - top10_recommendations['has_purchased']) * top10_recommendations['predict']\n",
        "    average_serendipity = serendipity_values.mean()\n",
        "\n",
        "    if average_serendipity is not None:\n",
        "        processed_recommendation_requests += 1\n",
        "        total_serendipity_score += average_serendipity\n",
        "\n",
        "final_serendipity_metric = total_serendipity_score / processed_recommendation_requests\n",
        "print(f\"Serendipity@10: {final_serendipity_metric:.4f}\")"
      ]
    },
    {
      "cell_type": "markdown",
      "id": "04a839e7-aed1-4d9f-9900-1c25ca757cf5",
      "metadata": {
        "id": "04a839e7-aed1-4d9f-9900-1c25ca757cf5"
      },
      "source": [
        "### Как можно улучшить скор:\n",
        "\n",
        "- Чистим датасет\n",
        "- Больше фичей\n",
        "- Варим фичи более умным способом:\n",
        "<center><img src=\"Timesplit2.svg\" width=\"1100\" /></center>"
      ]
    },
    {
      "cell_type": "code",
      "execution_count": null,
      "id": "f5b623e0-6d42-4f03-b253-a6ae57c06116",
      "metadata": {
        "id": "f5b623e0-6d42-4f03-b253-a6ae57c06116"
      },
      "outputs": [],
      "source": []
    }
  ],
  "metadata": {
    "kernelspec": {
      "display_name": "Python 3 (ipykernel)",
      "language": "python",
      "name": "python3"
    },
    "language_info": {
      "codemirror_mode": {
        "name": "ipython",
        "version": 3
      },
      "file_extension": ".py",
      "mimetype": "text/x-python",
      "name": "python",
      "nbconvert_exporter": "python",
      "pygments_lexer": "ipython3",
      "version": "3.9.19"
    },
    "colab": {
      "provenance": [],
      "include_colab_link": true
    }
  },
  "nbformat": 4,
  "nbformat_minor": 5
}