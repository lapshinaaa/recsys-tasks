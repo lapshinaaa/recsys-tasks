{
  "cells": [
    {
      "cell_type": "markdown",
      "metadata": {
        "id": "view-in-github",
        "colab_type": "text"
      },
      "source": [
        "<a href=\"https://colab.research.google.com/github/lapshinaaa/recsys-tasks/blob/main/RecSys1_Intro.ipynb\" target=\"_parent\"><img src=\"https://colab.research.google.com/assets/colab-badge.svg\" alt=\"Open In Colab\"/></a>"
      ]
    },
    {
      "cell_type": "markdown",
      "metadata": {
        "id": "qIU7fVezaCH1"
      },
      "source": [
        "<h1><center>Recommender Systems YSDA Course (Lapshina Anastasiia) </center></h1>\n",
        "\n",
        "<img src=\"https://repository-images.githubusercontent.com/240594243/5eec2380-4f85-11ea-9416-81aa9817d52a\" width=\"1200\" />"
      ]
    },
    {
      "cell_type": "code",
      "execution_count": 1,
      "metadata": {
        "id": "UlWvQfqPZ78e"
      },
      "outputs": [],
      "source": [
        "import os\n",
        "import zipfile\n",
        "import requests\n",
        "import kagglehub\n",
        "\n",
        "import numpy as np\n",
        "import polars as pl\n",
        "import tensorflow as tf\n",
        "import matplotlib.pyplot as plt\n",
        "\n",
        "from PIL import Image\n",
        "from io import BytesIO\n",
        "from tqdm.auto import tqdm\n",
        "from bs4 import BeautifulSoup\n",
        "from typing import List, Dict\n",
        "from collections import defaultdict\n",
        "from scipy.sparse import csr_matrix\n",
        "from tensorboard.plugins import projector\n",
        "from concurrent.futures import ThreadPoolExecutor"
      ]
    },
    {
      "cell_type": "markdown",
      "metadata": {
        "id": "Qdvpeu_gU3H7"
      },
      "source": [
        "## MovieLens\n",
        "\n",
        "Dataset with Movie Rates\n",
        "\n",
        "[Dataset](https://grouplens.org/datasets/movielens)\n",
        "\n",
        "[IMDb.com](https://www.imdb.com)\n",
        "\n",
        "<img src=\"https://do.ngs.ru/preview/do/155451396e52db853a4618cb0d3a3128_1506429441_1000_666.jpg\" width=\"700\" />\n",
        "\n",
        "### Loading dataset:"
      ]
    },
    {
      "cell_type": "code",
      "execution_count": 5,
      "metadata": {
        "id": "4fe4n7UMU3H8"
      },
      "outputs": [],
      "source": [
        "def download_and_extract(url: str, filename: str, chunk_size: int = 1024):\n",
        "    # loading the file\n",
        "    response = requests.get(url, stream=True)\n",
        "    response.raise_for_status()\n",
        "\n",
        "    total_size = int(response.headers.get('content-length', 0))\n",
        "\n",
        "    # write file\n",
        "    with open(filename, \"wb\") as f:\n",
        "        with tqdm(\n",
        "            total=total_size,\n",
        "            unit='B',\n",
        "            unit_scale=True,\n",
        "            desc=filename,\n",
        "            bar_format='{l_bar}{bar:50}{r_bar}{bar:-50b}'  # formatting\n",
        "        ) as pbar:\n",
        "            for chunk in response.iter_content(chunk_size=chunk_size):\n",
        "                if chunk:\n",
        "                    f.write(chunk)\n",
        "                    pbar.update(len(chunk))\n",
        "\n",
        "    # unpacking archive\n",
        "    with zipfile.ZipFile(filename, \"r\") as zip_ref:\n",
        "        print(f\"\\\\Unpacking {filename}...\")\n",
        "        zip_ref.extractall(\".\")\n",
        "        print(f\"Files from {filename} successfully extracted\\n\")"
      ]
    },
    {
      "cell_type": "code",
      "execution_count": 6,
      "metadata": {
        "colab": {
          "base_uri": "https://localhost:8080/",
          "height": 101,
          "referenced_widgets": [
            "f2f1cd63a3274f89851c324b1d8dfdfc",
            "3b2a48ae6b3b43d288ff7f199b82ee7a",
            "70a03f7b3fe744a6809f7c7c5cdf2be6",
            "2c7e372d03a249f88b70d78eeeb23035",
            "d14fea1790334210ae152aa706028388",
            "34485a3ccce94f439079ad2444230fcf",
            "18d5bb30d103483cbb1d20dfe366d893",
            "a1242cdabd684ef3b45aadc00b2377ef",
            "31ba011ce29f413c8dc32b281a94208f",
            "dc075eafe72d452ca15489382cb50aad",
            "bbe97cdbfdba485386c214306e3301fe"
          ]
        },
        "id": "kldze3oiU3H9",
        "outputId": "52cd2a73-cf47-4b61-80a6-47e87f0d4b0b"
      },
      "outputs": [
        {
          "output_type": "display_data",
          "data": {
            "text/plain": [
              "ml-32m.zip:   0%|                                                  | 0.00/239M [00:00<?, ?B/s]"
            ],
            "application/vnd.jupyter.widget-view+json": {
              "version_major": 2,
              "version_minor": 0,
              "model_id": "f2f1cd63a3274f89851c324b1d8dfdfc"
            }
          },
          "metadata": {}
        },
        {
          "output_type": "stream",
          "name": "stdout",
          "text": [
            "\\Unpacking ml-32m.zip...\n",
            "Files from ml-32m.zip successfully extracted\n",
            "\n"
          ]
        }
      ],
      "source": [
        "download_and_extract(\n",
        "    url=\"http://files.grouplens.org/datasets/movielens/ml-32m.zip\",\n",
        "    filename=\"ml-32m.zip\"\n",
        ")"
      ]
    },
    {
      "cell_type": "code",
      "execution_count": 7,
      "metadata": {
        "colab": {
          "base_uri": "https://localhost:8080/",
          "height": 255
        },
        "id": "SDvngBb5U3H-",
        "outputId": "363f6da5-53cd-46f1-c519-b845b22d2499"
      },
      "outputs": [
        {
          "output_type": "execute_result",
          "data": {
            "text/plain": [
              "shape: (5, 2)\n",
              "┌─────────┬─────────────────────────────────┐\n",
              "│ item_id ┆ title                           │\n",
              "│ ---     ┆ ---                             │\n",
              "│ i64     ┆ str                             │\n",
              "╞═════════╪═════════════════════════════════╡\n",
              "│ 114709  ┆ Toy Story (1995)                │\n",
              "│ 113497  ┆ Jumanji (1995)                  │\n",
              "│ 113228  ┆ Grumpier Old Men (1995)         │\n",
              "│ 114885  ┆ Waiting to Exhale (1995)        │\n",
              "│ 113041  ┆ Father of the Bride Part II (1… │\n",
              "└─────────┴─────────────────────────────────┘"
            ],
            "text/html": [
              "<div><style>\n",
              ".dataframe > thead > tr,\n",
              ".dataframe > tbody > tr {\n",
              "  text-align: right;\n",
              "  white-space: pre-wrap;\n",
              "}\n",
              "</style>\n",
              "<small>shape: (5, 2)</small><table border=\"1\" class=\"dataframe\"><thead><tr><th>item_id</th><th>title</th></tr><tr><td>i64</td><td>str</td></tr></thead><tbody><tr><td>114709</td><td>&quot;Toy Story (1995)&quot;</td></tr><tr><td>113497</td><td>&quot;Jumanji (1995)&quot;</td></tr><tr><td>113228</td><td>&quot;Grumpier Old Men (1995)&quot;</td></tr><tr><td>114885</td><td>&quot;Waiting to Exhale (1995)&quot;</td></tr><tr><td>113041</td><td>&quot;Father of the Bride Part II (1…</td></tr></tbody></table></div>"
            ]
          },
          "metadata": {},
          "execution_count": 7
        }
      ],
      "source": [
        "movies = pl.read_csv('ml-32m/movies.csv')\n",
        "links = pl.read_csv('ml-32m/links.csv')\n",
        "movies = movies.join(links, on='movieId')\n",
        "\n",
        "movies = movies.rename({'imdbId': 'item_id'})\n",
        "movies = movies.select([\"item_id\", \"title\"])\n",
        "\n",
        "movies.head()"
      ]
    },
    {
      "cell_type": "code",
      "execution_count": 8,
      "metadata": {
        "colab": {
          "base_uri": "https://localhost:8080/",
          "height": 255
        },
        "id": "ArDEnsI4U3H-",
        "outputId": "6f1f23f7-1862-439f-8436-1a6bade94b3e"
      },
      "outputs": [
        {
          "output_type": "execute_result",
          "data": {
            "text/plain": [
              "shape: (5, 3)\n",
              "┌─────────┬─────────┬────────┐\n",
              "│ user_id ┆ item_id ┆ rating │\n",
              "│ ---     ┆ ---     ┆ ---    │\n",
              "│ i64     ┆ i64     ┆ f64    │\n",
              "╞═════════╪═════════╪════════╡\n",
              "│ 1       ┆ 114388  ┆ 4.0    │\n",
              "│ 1       ┆ 113627  ┆ 1.0    │\n",
              "│ 1       ┆ 112682  ┆ 2.0    │\n",
              "│ 1       ┆ 115012  ┆ 5.0    │\n",
              "│ 1       ┆ 114746  ┆ 5.0    │\n",
              "└─────────┴─────────┴────────┘"
            ],
            "text/html": [
              "<div><style>\n",
              ".dataframe > thead > tr,\n",
              ".dataframe > tbody > tr {\n",
              "  text-align: right;\n",
              "  white-space: pre-wrap;\n",
              "}\n",
              "</style>\n",
              "<small>shape: (5, 3)</small><table border=\"1\" class=\"dataframe\"><thead><tr><th>user_id</th><th>item_id</th><th>rating</th></tr><tr><td>i64</td><td>i64</td><td>f64</td></tr></thead><tbody><tr><td>1</td><td>114388</td><td>4.0</td></tr><tr><td>1</td><td>113627</td><td>1.0</td></tr><tr><td>1</td><td>112682</td><td>2.0</td></tr><tr><td>1</td><td>115012</td><td>5.0</td></tr><tr><td>1</td><td>114746</td><td>5.0</td></tr></tbody></table></div>"
            ]
          },
          "metadata": {},
          "execution_count": 8
        }
      ],
      "source": [
        "movies_ratings = pl.read_csv('ml-32m/ratings.csv')\n",
        "movies_ratings = movies_ratings.join(links, on='movieId')\n",
        "movies_ratings = movies_ratings.rename({'imdbId': 'item_id', 'userId': 'user_id'})\n",
        "movies_ratings = movies_ratings.select(['user_id', 'item_id', 'rating'])\n",
        "\n",
        "movies_ratings.head(5)"
      ]
    },
    {
      "cell_type": "markdown",
      "metadata": {
        "id": "6nw6EQw9mO4C"
      },
      "source": [
        "<h2 style=\"color: rgb(46, 81, 162)\">MyAnimeList Database 2020</h2>\n",
        "\n",
        "Dataset with Anime Rates from website MyAnimeList\n",
        "\n",
        "[Dataset](https://www.kaggle.com/datasets/hernan4444/anime-recommendation-database-2020)\n",
        "\n",
        "[MyAnimeList.net](https://myanimelist.net)\n",
        "\n",
        "<img src=\"https://i.pinimg.com/originals/53/0b/16/530b16f27752dfbb67c7db8d7b6fae4c.jpg\" width=\"400\" />\n",
        "\n",
        "### Loading dataset:"
      ]
    },
    {
      "cell_type": "code",
      "execution_count": 9,
      "metadata": {
        "colab": {
          "base_uri": "https://localhost:8080/",
          "height": 101,
          "referenced_widgets": [
            "73422fa965b54aaeabec0f7070539d2c",
            "bf4a4b3dca604cc883a64b834e378110",
            "03d7a5a3d3f6406a9841156dbfa66662",
            "22265c79b5d74f3ea5d8270797057648",
            "ba6808364a3241c99dbb932de832e610",
            "6dd7e40fbeb94b778a2c0d6eee8266ac",
            "538dc70afb7a4638b5678741dbc7fb7d",
            "f211b3254a70466fa926801e7ac3c69d",
            "0b20993b606d4d87a4ee9dd898f2ca0d",
            "fb1628fdc73f4c508bddc7abd2f994c8",
            "91eccb995b6245b1b69fb2193b89b55a"
          ]
        },
        "id": "Qeq9BuX6U3IA",
        "outputId": "1fabc591-8883-4945-8aa9-bc2589bf4bfd"
      },
      "outputs": [
        {
          "output_type": "display_data",
          "data": {
            "text/plain": [
              "anime.zip:   0%|                                                  | 0.00/693M [00:00<?, ?B/s]"
            ],
            "application/vnd.jupyter.widget-view+json": {
              "version_major": 2,
              "version_minor": 0,
              "model_id": "73422fa965b54aaeabec0f7070539d2c"
            }
          },
          "metadata": {}
        },
        {
          "output_type": "stream",
          "name": "stdout",
          "text": [
            "\\Unpacking anime.zip...\n",
            "Files from anime.zip successfully extracted\n",
            "\n"
          ]
        }
      ],
      "source": [
        "download_and_extract(\n",
        "    url=\"https://www.kaggle.com/api/v1/datasets/download/hernan4444/anime-recommendation-database-2020\",\n",
        "    filename=\"anime.zip\"\n",
        ")"
      ]
    },
    {
      "cell_type": "code",
      "execution_count": 10,
      "metadata": {
        "colab": {
          "base_uri": "https://localhost:8080/",
          "height": 255
        },
        "id": "ou672LCOU3IB",
        "outputId": "c3984755-5ae7-4d6c-cb65-9943ffd310e2"
      },
      "outputs": [
        {
          "output_type": "execute_result",
          "data": {
            "text/plain": [
              "shape: (5, 2)\n",
              "┌─────────┬────────────────────────┐\n",
              "│ item_id ┆ title                  │\n",
              "│ ---     ┆ ---                    │\n",
              "│ i64     ┆ str                    │\n",
              "╞═════════╪════════════════════════╡\n",
              "│ 1       ┆ Cowboy Bebop           │\n",
              "│ 5       ┆ Cowboy Bebop:The Movie │\n",
              "│ 6       ┆ Trigun                 │\n",
              "│ 7       ┆ Witch Hunter Robin     │\n",
              "│ 8       ┆ Beet the Vandel Buster │\n",
              "└─────────┴────────────────────────┘"
            ],
            "text/html": [
              "<div><style>\n",
              ".dataframe > thead > tr,\n",
              ".dataframe > tbody > tr {\n",
              "  text-align: right;\n",
              "  white-space: pre-wrap;\n",
              "}\n",
              "</style>\n",
              "<small>shape: (5, 2)</small><table border=\"1\" class=\"dataframe\"><thead><tr><th>item_id</th><th>title</th></tr><tr><td>i64</td><td>str</td></tr></thead><tbody><tr><td>1</td><td>&quot;Cowboy Bebop&quot;</td></tr><tr><td>5</td><td>&quot;Cowboy Bebop:The Movie&quot;</td></tr><tr><td>6</td><td>&quot;Trigun&quot;</td></tr><tr><td>7</td><td>&quot;Witch Hunter Robin&quot;</td></tr><tr><td>8</td><td>&quot;Beet the Vandel Buster&quot;</td></tr></tbody></table></div>"
            ]
          },
          "metadata": {},
          "execution_count": 10
        }
      ],
      "source": [
        "anime = pl.read_csv(\n",
        "    'anime.csv',\n",
        "    schema_overrides={\n",
        "        **{\"Ranked\": pl.Utf8, \"Score\": pl.Utf8},\n",
        "        **{f\"Score-{i}\": pl.Utf8 for i in range(1, 11)}\n",
        "    }\n",
        ")\n",
        "\n",
        "anime = anime.with_columns(\n",
        "    title=pl.when(pl.col(\"English name\") == \"Unknown\")\n",
        "        .then(pl.col(\"Name\"))\n",
        "        .otherwise(pl.col(\"English name\"))\n",
        ")\n",
        "\n",
        "anime = anime.rename({'MAL_ID': 'item_id'})\n",
        "anime = anime.select([\"item_id\", \"title\"])\n",
        "\n",
        "anime.head()"
      ]
    },
    {
      "cell_type": "code",
      "execution_count": 11,
      "metadata": {
        "colab": {
          "base_uri": "https://localhost:8080/",
          "height": 255
        },
        "id": "zuxQj6HAU3IB",
        "outputId": "85d6fc9f-d512-40a8-a792-1ee3d3eaeff1"
      },
      "outputs": [
        {
          "output_type": "execute_result",
          "data": {
            "text/plain": [
              "shape: (5, 3)\n",
              "┌─────────┬─────────┬────────┐\n",
              "│ user_id ┆ item_id ┆ rating │\n",
              "│ ---     ┆ ---     ┆ ---    │\n",
              "│ i64     ┆ i64     ┆ i64    │\n",
              "╞═════════╪═════════╪════════╡\n",
              "│ 0       ┆ 430     ┆ 9      │\n",
              "│ 0       ┆ 1004    ┆ 5      │\n",
              "│ 0       ┆ 3010    ┆ 7      │\n",
              "│ 0       ┆ 570     ┆ 7      │\n",
              "│ 0       ┆ 2762    ┆ 9      │\n",
              "└─────────┴─────────┴────────┘"
            ],
            "text/html": [
              "<div><style>\n",
              ".dataframe > thead > tr,\n",
              ".dataframe > tbody > tr {\n",
              "  text-align: right;\n",
              "  white-space: pre-wrap;\n",
              "}\n",
              "</style>\n",
              "<small>shape: (5, 3)</small><table border=\"1\" class=\"dataframe\"><thead><tr><th>user_id</th><th>item_id</th><th>rating</th></tr><tr><td>i64</td><td>i64</td><td>i64</td></tr></thead><tbody><tr><td>0</td><td>430</td><td>9</td></tr><tr><td>0</td><td>1004</td><td>5</td></tr><tr><td>0</td><td>3010</td><td>7</td></tr><tr><td>0</td><td>570</td><td>7</td></tr><tr><td>0</td><td>2762</td><td>9</td></tr></tbody></table></div>"
            ]
          },
          "metadata": {},
          "execution_count": 11
        }
      ],
      "source": [
        "anime_ratings = pl.read_csv('rating_complete.csv')\n",
        "anime_ratings = anime_ratings.rename({'anime_id': 'item_id'})\n",
        "anime_ratings.head()"
      ]
    },
    {
      "cell_type": "markdown",
      "metadata": {
        "id": "NM5EOu84U3IB"
      },
      "source": [
        "## Datаset Selection:"
      ]
    },
    {
      "cell_type": "code",
      "execution_count": 12,
      "metadata": {
        "id": "LceFO3aOU3IB"
      },
      "outputs": [],
      "source": [
        "# switching between datasets:\n",
        "DATASET_TYPE = 'MOVIES'\n",
        "# DATASET_TYPE = 'ANIME'\n",
        "\n",
        "if DATASET_TYPE == 'ANIME':\n",
        "    ratings = anime_ratings\n",
        "    items = anime\n",
        "elif DATASET_TYPE == 'MOVIES':\n",
        "    ratings = movies_ratings\n",
        "    items = movies\n",
        "else:\n",
        "    raise IOError(\"Incorrect Dataset\")"
      ]
    },
    {
      "cell_type": "markdown",
      "metadata": {
        "id": "kvwsBM_dU3IC"
      },
      "source": [
        "## Poster Upload:"
      ]
    },
    {
      "cell_type": "code",
      "execution_count": 13,
      "metadata": {
        "id": "LNqEoVHlU3IC"
      },
      "outputs": [],
      "source": [
        "class PosterDisplay:\n",
        "    def __init__(self, dataset_type):\n",
        "        self.dataset_type = dataset_type.upper()\n",
        "        self.headers = {\"User-Agent\": \"Mozilla/5.0\"}\n",
        "\n",
        "    def _get_poster_url(self, item_id):\n",
        "        # processing ID depending on dataset\n",
        "        if self.dataset_type == 'MOVIES':\n",
        "            processed_id = str(item_id).zfill(7)\n",
        "            url = f'https://www.imdb.com/title/tt{processed_id}'\n",
        "            css_selector = {'class': 'ipc-image'}\n",
        "            src_attr = 'src'\n",
        "        else:  # anime on default\n",
        "            url = f'https://myanimelist.net/anime/{item_id}/'\n",
        "            css_selector = {'itemprop': 'image'}\n",
        "            src_attr = 'data-src'\n",
        "\n",
        "        try:\n",
        "            response = requests.get(url, headers=self.headers, timeout=10)\n",
        "            response.raise_for_status()\n",
        "            soup = BeautifulSoup(response.text, 'html.parser')\n",
        "\n",
        "            # search element\n",
        "            poster_element = soup.find('img', css_selector)\n",
        "\n",
        "            if not poster_element:\n",
        "                print(f\"No poster found for {self.dataset_type} ID {item_id}\")\n",
        "                return None\n",
        "\n",
        "            return poster_element.get(src_attr)\n",
        "\n",
        "        except Exception as e:\n",
        "            print(f\"Error fetching {self.dataset_type} URL {item_id}: {e}\")\n",
        "            return None\n",
        "\n",
        "    def _load_poster(self, row):\n",
        "        item_id, title = row[0], row[1]\n",
        "        try:\n",
        "            poster_url = self._get_poster_url(item_id)\n",
        "\n",
        "            if not poster_url:\n",
        "                return None, None\n",
        "\n",
        "            response = requests.get(poster_url, timeout=10)\n",
        "            response.raise_for_status()\n",
        "\n",
        "        except Exception as e:\n",
        "            print(f\"Error loading poster for '{title}': {e}\")\n",
        "            return None, None\n",
        "\n",
        "        return Image.open(BytesIO(response.content)), title\n",
        "\n",
        "    def show_posters(self, data):\n",
        "        data = data[['item_id', 'title']]\n",
        "        _, axes = plt.subplots(2, 5, figsize=(20, 8))\n",
        "        rows = [row for row in data.iter_rows()]\n",
        "\n",
        "        with ThreadPoolExecutor(max_workers=10) as executor:\n",
        "            results = list(executor.map(self._load_poster, rows))\n",
        "\n",
        "        for idx, (img, title) in enumerate(results):\n",
        "            ax = axes[idx // 5, idx % 5]\n",
        "            if img and title:\n",
        "                ax.imshow(img)\n",
        "                ax.set_title(title)\n",
        "            else:\n",
        "                ax.set_title(\"Image not available\")\n",
        "            ax.axis('off')\n",
        "\n",
        "        plt.tight_layout()\n",
        "        plt.show()"
      ]
    },
    {
      "cell_type": "markdown",
      "metadata": {
        "id": "-A8k2dWZU3IC"
      },
      "source": [
        "## 10 top-rated movies:\n",
        "\n",
        "Writing code that will write top 10 movies/anime movies into the variable top_10"
      ]
    },
    {
      "cell_type": "code",
      "execution_count": null,
      "metadata": {
        "id": "yBr0ZxuuU3ID"
      },
      "outputs": [],
      "source": [
        "# В top_10 должен быть датасет с 2 столбцами: item_id и title\n",
        "# Используйте ratings и items\n",
        "\n",
        "# top_10 = ...\n",
        "\n",
        "if DATASET_TYPE == 'ANIME':\n",
        "    assert top_10[0]['item_id'].item() == 1535\n",
        "    assert top_10[0]['title'].item() == 'Death Note'\n",
        "else:\n",
        "    assert top_10[0]['item_id'].item() == 111161\n",
        "    assert top_10[0]['title'].item() == 'Shawshank Redemption, The (1994)'\n",
        "\n",
        "assert top_10.shape[0] == 10\n",
        "\n",
        "display = PosterDisplay(DATASET_TYPE)\n",
        "display.show_posters(top_10)"
      ]
    },
    {
      "cell_type": "markdown",
      "metadata": {
        "id": "st3jAqm8mODr"
      },
      "source": [
        "## Сплитим датасет на трейн и тест:\n",
        "\n",
        "- Отфильтруем в датасете пользователей и айтемы с количеством взаимодействий меньше 20\n",
        "- В тест отправим 10 случайных взаимодействий\n",
        "- В трейн отправляем всё остальное"
      ]
    },
    {
      "cell_type": "code",
      "execution_count": null,
      "metadata": {
        "id": "JpgAwkcvmNz3"
      },
      "outputs": [],
      "source": [
        "def train_test_split(ratings: pl.DataFrame) -> tuple[pl.DataFrame, pl.DataFrame]:\n",
        "    MIN_INTERACTIONS_COUNT = 20\n",
        "    ITEMS_FOR_TEST = 10\n",
        "\n",
        "    # Фильтр пользователей у кого менее 20 оценок\n",
        "    users_filter = (\n",
        "        ratings.group_by(\"user_id\")\n",
        "        .agg(pl.len())\n",
        "        .filter(pl.col(\"len\") >= MIN_INTERACTIONS_COUNT)\n",
        "        .select(\"user_id\")\n",
        "    )\n",
        "\n",
        "    # Фильтр айтемов у кого менее 20 оценок\n",
        "    items_filter = (\n",
        "        ratings.group_by(\"item_id\")\n",
        "        .agg(pl.len())\n",
        "        .filter(pl.col(\"len\") >= MIN_INTERACTIONS_COUNT)\n",
        "        .select(\"item_id\")\n",
        "    )\n",
        "\n",
        "    # Применение обоих фильтров к исходным данным\n",
        "    filtered_ratings = ratings.join(users_filter, on=\"user_id\").join(items_filter, on=\"item_id\")\n",
        "\n",
        "    # Добавляем служебные колонки\n",
        "    df = filtered_ratings.with_columns(\n",
        "        row_n=pl.arange(0, pl.len()).over(\"user_id\"),\n",
        "    )\n",
        "\n",
        "    # Формируем тренировочный набор\n",
        "    train = df.filter(pl.col(\"row_n\") >= ITEMS_FOR_TEST)\n",
        "\n",
        "    # Формируем тестовый набор\n",
        "    test = df.filter(pl.col(\"row_n\") < ITEMS_FOR_TEST)\n",
        "\n",
        "    return train.drop([\"row_n\"]), test.drop([\"row_n\"])"
      ]
    },
    {
      "cell_type": "code",
      "execution_count": null,
      "metadata": {
        "id": "44FUzgYEU3ID"
      },
      "outputs": [],
      "source": [
        "train, test = train_test_split(ratings[:1000000])\n",
        "\n",
        "assert train.columns == test.columns == ['user_id', 'item_id', 'rating']\n",
        "\n",
        "train"
      ]
    },
    {
      "cell_type": "markdown",
      "metadata": {
        "id": "yLqHY7MQU3IE"
      },
      "source": [
        "## Добавляем ваши оценки в датасет:\n",
        "\n",
        "1) В YOUR_ITEM_IDS добавьте ID фильмов или аниме.\n",
        "Найти их можно на сайтах в адресной строке\n",
        "\n",
        "**Примеры:**\n",
        "- https://www.imdb.com/title/tt0099685 - id=99685 (без нулей вначале)\n",
        "- https://myanimelist.net/anime/32182 - id=32182\n",
        "\n",
        "2) В YOUR_RATINGS добавьте свои оценки для указанных фильмов\n",
        "\n",
        "**ВНИМАНИЕ:**\n",
        "- Для фильмов оценки от 1 до 5 с шагом в 0.5\n",
        "- Для аниме оценки от 1 до 10 с шагом в 1"
      ]
    },
    {
      "cell_type": "code",
      "execution_count": null,
      "metadata": {
        "id": "gb9rY_Y1U3IE"
      },
      "outputs": [],
      "source": [
        "YOUR_USER_ID = -1\n",
        "\n",
        "# Пример для фильмов:\n",
        "YOUR_ITEM_IDS = [99685, 993846, 1675434]\n",
        "YOUR_RATINGS = [5.0, 5.0, 5.0]\n",
        "\n",
        "# Пример для аниме:\n",
        "# YOUR_ITEM_IDS = [32182, 185, 199]\n",
        "# YOUR_RATINGS = [10, 10, 10]\n",
        "\n",
        "your_profile_df = pl.DataFrame({\n",
        "    'user_id': [YOUR_USER_ID] * len(YOUR_ITEM_IDS),\n",
        "    'item_id': YOUR_ITEM_IDS,\n",
        "    'rating': YOUR_RATINGS\n",
        "})\n",
        "\n",
        "train_with_you = pl.concat([train, your_profile_df])\n",
        "train_with_you"
      ]
    },
    {
      "cell_type": "markdown",
      "metadata": {
        "id": "kq9kp9A7mX1Z"
      },
      "source": [
        "## Базовый класс рекомендера:\n",
        "\n",
        "Базовый класс, от которого будем наследовать наши алгоритмы"
      ]
    },
    {
      "cell_type": "code",
      "execution_count": null,
      "metadata": {
        "id": "8GbH14mKljM2"
      },
      "outputs": [],
      "source": [
        "class BaseRecommender:\n",
        "    def __init__(self, actions: pl.DataFrame):\n",
        "        self.id2user = np.array(actions['user_id'].unique())\n",
        "        self.id2item = np.array(actions['item_id'].unique())\n",
        "        self.user2id = {uid: idx for idx, uid in enumerate(self.id2user)}\n",
        "        self.item2id = {uid: idx for idx, uid in enumerate(self.id2item)}\n",
        "\n",
        "        rows = [self.user2id[i] for i in actions['user_id']]\n",
        "        cols = [self.item2id[i] for i in actions['item_id']]\n",
        "        data = actions['rating']\n",
        "        self.ratings_matrix = csr_matrix(\n",
        "            (data, (rows, cols)),\n",
        "            dtype=np.float32\n",
        "        )\n",
        "\n",
        "        data = [1 for i in actions['rating']]\n",
        "        self.interactions_matrix = csr_matrix(\n",
        "            (data, (rows, cols)),\n",
        "            dtype=np.float32\n",
        "        )\n",
        "\n",
        "        self.row_lengths = np.array(self.interactions_matrix.getnnz(axis=1)).ravel()\n",
        "        self.col_lengths = np.array(self.interactions_matrix.getnnz(axis=0)).ravel()\n",
        "\n",
        "    def _get_user_items(self, user_idx: int):\n",
        "        return [self.id2item[idx] for idx in self.interactions_matrix[user_idx].indices]\n",
        "\n",
        "    def recommend_for_users(self, user_id, k: int = 10):\n",
        "        raise NotImplemented\n",
        "\n",
        "    def find_similar_items(self, item_id, k: int = 10):\n",
        "        raise NotImplemented"
      ]
    },
    {
      "cell_type": "markdown",
      "metadata": {
        "id": "nlFnx_e5U3IF"
      },
      "source": [
        "## Коэффициент Жаккара:\n",
        "\n",
        "Реализуем рекомендации на основе близости Жаккара\n",
        "\n",
        "$$J(A, B) = \\frac{|A \\cap B|}{|A \\cup B|}$$\n",
        "<table>\n",
        "  <tbody>\n",
        "    <tr>\n",
        "      <td><img src=\"https://upload.wikimedia.org/wikipedia/commons/thumb/1/1f/Intersection_of_sets_A_and_B.svg/2560px-Intersection_of_sets_A_and_B.svg.png\" width=\"200\" /></td>\n",
        "      <td><img src=\"https://upload.wikimedia.org/wikipedia/commons/thumb/e/ee/Union_of_sets_A_and_B.svg/2560px-Union_of_sets_A_and_B.svg.png\" width=\"200\" /></td>\n",
        "    </tr>\n",
        "  </tbody>\n",
        "</table>\n",
        "\n",
        "\n",
        "- В функции find_similar_items будем искать айтемы с самым высоким коэффициентом Жаккара в текущему\n",
        "- В функции recommend_for_users:\n",
        "    - Ищем похожих пользователей по коэ-ту Жаккара\n",
        "    - Берём их взаимодействия и формируем из них рекомендации к пользователю"
      ]
    },
    {
      "cell_type": "code",
      "execution_count": null,
      "metadata": {
        "id": "fyOzOZBiU3IF"
      },
      "outputs": [],
      "source": [
        "class JaccardRecommender(BaseRecommender):\n",
        "    def __init__(self, actions):\n",
        "        super().__init__(actions)\n",
        "        self.alpha = 0.05 # Прибавляем к знаменателю, чтобы случайно не поделить на 0\n",
        "\n",
        "    def _batch_jaccard_similarity(self, target_indices: np.ndarray) -> np.ndarray:\n",
        "        # Подсказка: self.row_lengths и np.newaxis\n",
        "\n",
        "        target_vectors = ...\n",
        "\n",
        "        intersections = ...\n",
        "        unions = ...\n",
        "        similarities = ...\n",
        "\n",
        "        return similarities\n",
        "\n",
        "    def recommend_for_users(self, user_ids: list, k: int = 10) -> dict:\n",
        "        recommendations = {}\n",
        "        user_indices = [self.user2id[uid] for uid in user_ids if uid in self.user2id]\n",
        "\n",
        "        if not user_indices:\n",
        "            return {}\n",
        "\n",
        "        user_indices = np.array(user_indices)\n",
        "        sim_matrix = self._batch_jaccard_similarity(user_indices)\n",
        "        np.fill_diagonal(sim_matrix, -np.inf)\n",
        "\n",
        "        # Поиск топ-k соседей\n",
        "        top_sim_users = np.argpartition(-sim_matrix, k, axis=1)[:, :k]\n",
        "\n",
        "        # Сбор рекомендаций\n",
        "        for i, (uid, u_idx) in enumerate(zip(user_ids, user_indices)):\n",
        "            seen_items = set(self._get_user_items(u_idx))\n",
        "            item_scores = defaultdict(float)\n",
        "\n",
        "            for neighbor_idx in top_sim_users[i]:\n",
        "                if neighbor_idx == u_idx:\n",
        "                    continue\n",
        "                for item in self._get_user_items(neighbor_idx):\n",
        "                    if item not in seen_items:\n",
        "                        item_scores[item] += sim_matrix[i, neighbor_idx]\n",
        "\n",
        "            top_items = sorted(item_scores, key=lambda x: (-item_scores[x], x))[:k]\n",
        "            recommendations[uid] = top_items\n",
        "\n",
        "        return recommendations\n",
        "\n",
        "    def find_similar_items(self, item_id, k: int = 10):\n",
        "        if item_id not in self.item2id:\n",
        "            return []\n",
        "\n",
        "        item_idx = self.item2id[item_id]\n",
        "        item_vector = ...\n",
        "\n",
        "        # Расчет пересечений и объединений\n",
        "        # Подсказка: np.A1\n",
        "        intersections = ...\n",
        "        unions = ...\n",
        "        similarities = ... # не забудьте про self.alpha\n",
        "\n",
        "        similarities[item_idx] = -1\n",
        "\n",
        "        top_indices = ...\n",
        "        return [self.id2item[i] for i in top_indices]"
      ]
    },
    {
      "cell_type": "code",
      "execution_count": null,
      "metadata": {
        "id": "3mMt-4u84ye3"
      },
      "outputs": [],
      "source": [
        "jaccard = JaccardRecommender(train_with_you)"
      ]
    },
    {
      "cell_type": "markdown",
      "metadata": {
        "id": "vzzF5BFIU3IF"
      },
      "source": [
        "## Cмотрим на похожие фильмы:"
      ]
    },
    {
      "cell_type": "code",
      "execution_count": null,
      "metadata": {
        "id": "02Ducp0sPfGd"
      },
      "outputs": [],
      "source": [
        "# Back to the Future: 88763\n",
        "# Spirited away: 245429\n",
        "\n",
        "item_id = 88763\n",
        "\n",
        "recommendations = jaccard.find_similar_items(item_id, 10)\n",
        "recommendations = pl.DataFrame({\"item_id\": recommendations}).with_row_index(\"target_order\")\n",
        "recommendations = items.join(recommendations, on=\"item_id\", how=\"inner\").sort(\"target_order\")\n",
        "display.show_posters(recommendations)"
      ]
    },
    {
      "cell_type": "markdown",
      "metadata": {
        "id": "uuakZ7UBU3IG"
      },
      "source": [
        "## Персональные рекомендации для тебя:"
      ]
    },
    {
      "cell_type": "code",
      "execution_count": null,
      "metadata": {
        "id": "204kAsAsU3IG"
      },
      "outputs": [],
      "source": [
        "recommendations = jaccard.recommend_for_users([YOUR_USER_ID], 10)\n",
        "recommendations = pl.DataFrame({\"item_id\": recommendations[YOUR_USER_ID]}).with_row_index(\"target_order\")\n",
        "recommendations = items.join(recommendations, on=\"item_id\", how=\"inner\").sort(\"target_order\")\n",
        "display.show_posters(recommendations)"
      ]
    },
    {
      "cell_type": "markdown",
      "metadata": {
        "id": "cDPxr6YRU3IG"
      },
      "source": [
        "# Precision@k: Метрика точности рекомендаций\n",
        "\n",
        "$$\\text{Precision@k} = \\frac{\\text{Количество релевантных элементов}}{K}$$\n",
        "\n",
        "- Одна из самых простых метрик для оценки точности рекомендаций - Precision@k.\n",
        "- Представляет из себя долю точно предсказанных элементов.\n",
        "- Мы будем использовать Precision@10, т.к. оставили в тестовом наборе данных по 10 айтемов для каждого пользователя."
      ]
    },
    {
      "cell_type": "code",
      "execution_count": null,
      "metadata": {
        "id": "ITSor2NeU3IG"
      },
      "outputs": [],
      "source": [
        "def calculate_precision_at_k(model: BaseRecommender,\n",
        "                            test_df: pl.DataFrame,\n",
        "                            k: int = 10) -> float:\n",
        "\n",
        "    test_users = test_df.group_by(\"user_id\").agg(\n",
        "        pl.col(\"item_id\")\n",
        "    ).to_dict(as_series=False)\n",
        "\n",
        "    user_relevant_map = dict(zip(\n",
        "        test_users[\"user_id\"],\n",
        "        [set(items) for items in test_users[\"item_id\"]]\n",
        "    ))\n",
        "\n",
        "    # Фильтрация пользователей, существующих в модели\n",
        "    valid_users = [uid for uid in test_users[\"user_id\"] if uid in model.user2id]\n",
        "\n",
        "    # Получаем рекомендации только для валидных пользователей\n",
        "    batch_recommendations = model.recommend_for_users(\n",
        "        user_ids=valid_users,\n",
        "        k=k\n",
        "    )\n",
        "\n",
        "    # Расчет точности, используйте user_relevant_map и batch_recommendations\n",
        "    precisions = ...\n",
        "\n",
        "    precision = np.mean(precisions)\n",
        "\n",
        "    return precision"
      ]
    },
    {
      "cell_type": "code",
      "execution_count": null,
      "metadata": {
        "id": "vvZTBrksU3IG"
      },
      "outputs": [],
      "source": [
        "print('Jaccard Precision@10: ', round(calculate_precision_at_k(jaccard, test[:10000], 10), 4))"
      ]
    },
    {
      "cell_type": "markdown",
      "metadata": {
        "id": "yEsJOP_4U3IH"
      },
      "source": [
        "# NPMI (Normalized Pointwise Mutual Information)\n",
        "\n",
        "- PMI — точечная взаимная информация:\n",
        "\n",
        "$$\\text{PMI}(X, Y) = \\log \\frac{P(X, Y)}{P(X) \\cdot P(Y)}$$\n",
        "\n",
        "- Нормализованная точечная взаимная информация (NPMI) вычисляется по формуле:\n",
        "\n",
        "$$\\text{NPMI}(X, Y) = \\frac{\\text{PMI}(X, Y)}{-\\log P(X, Y)}$$\n",
        "\n",
        "$$\\text{NPMI}(X, Y) = \\frac{\\log \\left( \\frac{P(X, Y)}{P(X) \\cdot P(Y)} \\right)}{-\\log P(X, Y)}$$\n",
        "\n",
        "- Поскольку мы явно делим на абсолютные вероятности, мы напрямую штрафуем популярные айтемы.\n",
        "- Это значительно уменьшает шанс порекомендовать что-то популярное."
      ]
    },
    {
      "cell_type": "code",
      "execution_count": null,
      "metadata": {
        "id": "oqQFnwFdU3IH"
      },
      "outputs": [],
      "source": [
        "class NPMIRecommender(BaseRecommender):\n",
        "    def __init__(self, actions: pl.DataFrame, top_k: int = 10):\n",
        "        super().__init__(actions)\n",
        "        self.top_k = top_k  # Количество сохраняемых похожих элементов\n",
        "        self.top_similar = {}  # {item_idx: [(similar_item_idx, score), ...]}\n",
        "        self._precompute_top_similar()\n",
        "\n",
        "    def _precompute_top_similar(self):\n",
        "        \"\"\"Предрасчет топовых похожих фильмов для каждого фильма\"\"\"\n",
        "        item_counts = self.interactions_matrix.sum(axis=0).A1\n",
        "        total_users = self.interactions_matrix.shape[0]\n",
        "\n",
        "        cooc_matrix = self.interactions_matrix.T.dot(self.interactions_matrix).tocsr()\n",
        "        p_i = ...\n",
        "\n",
        "        for item_idx in range(cooc_matrix.shape[0]):\n",
        "\n",
        "            # Вычисляем NPMI для пар\n",
        "            p_ij = ...\n",
        "\n",
        "            with np.errstate(divide='ignore', invalid='ignore'): # Игнорируем ошибки деления на 0\n",
        "                pmi = ...\n",
        "                npmi = ...\n",
        "                npmi = np.nan_to_num(npmi, nan=0.0, posinf=0.0, neginf=0.0)\n",
        "\n",
        "            # Cортировка\n",
        "            top_indices = np.argsort(-npmi)[:self.top_k]\n",
        "\n",
        "            # Сохраняем только топ-K\n",
        "            self.top_similar[item_idx] = [...]\n",
        "\n",
        "    def recommend_for_users(self, user_ids: list, k: int = 10) -> dict:\n",
        "        \"\"\"Быстрые рекомендации через предрасчитанные топы\"\"\"\n",
        "        recommendations = {}\n",
        "\n",
        "        for uid in user_ids:\n",
        "            if uid not in self.user2id:\n",
        "                continue\n",
        "\n",
        "            user_idx = self.user2id[uid]\n",
        "            seen_items = set(self._get_user_items(user_idx))\n",
        "            item_scores = defaultdict(float)\n",
        "\n",
        "            # Агрегация по предрасчитанным топам\n",
        "            for item in seen_items:\n",
        "                item_idx = self.item2id[item]\n",
        "                for sim_item_idx, score in self.top_similar.get(item_idx, []):\n",
        "                    sim_item = self.id2item[sim_item_idx]\n",
        "                    if sim_item not in seen_items:\n",
        "                        item_scores[sim_item] += score\n",
        "\n",
        "            # Сортировка и выбор топ-K\n",
        "            sorted_items = sorted(item_scores.items(), key=lambda x: (-x[1], x[0]))\n",
        "            recommendations[uid] = [item for item, _ in sorted_items[:k]]\n",
        "\n",
        "        return recommendations\n",
        "\n",
        "    def find_similar_items(self, item_id, k: int = 10):\n",
        "        \"\"\"Быстрый поиск похожих элементов из предрасчитанных\"\"\"\n",
        "        if item_id not in self.item2id:\n",
        "            return []\n",
        "\n",
        "        item_idx = self.item2id[item_id]\n",
        "        return [self.id2item[sim_idx] for sim_idx, _ in self.top_similar.get(item_idx, [])[:k]]"
      ]
    },
    {
      "cell_type": "code",
      "execution_count": null,
      "metadata": {
        "id": "YF3OoLiCU3IH"
      },
      "outputs": [],
      "source": [
        "npmi = NPMIRecommender(train_with_you)"
      ]
    },
    {
      "cell_type": "markdown",
      "metadata": {
        "id": "B6eHgtVQU3II"
      },
      "source": [
        "## Cмотрим на похожие фильмы:"
      ]
    },
    {
      "cell_type": "code",
      "execution_count": null,
      "metadata": {
        "id": "TKECtFxuU3II"
      },
      "outputs": [],
      "source": [
        "# Back to the Future: 88763\n",
        "# Spirited away: 245429\n",
        "\n",
        "item_id = 88763\n",
        "\n",
        "recommendations = npmi.find_similar_items(item_id, 10)\n",
        "recommendations = pl.DataFrame({\"item_id\": recommendations}).with_row_index(\"target_order\")\n",
        "recommendations = items.join(recommendations, on=\"item_id\", how=\"inner\").sort(\"target_order\")\n",
        "display.show_posters(recommendations)"
      ]
    },
    {
      "cell_type": "markdown",
      "metadata": {
        "id": "DfubSFtyU3IU"
      },
      "source": [
        "## Персональные рекомендации для тебя:"
      ]
    },
    {
      "cell_type": "code",
      "execution_count": null,
      "metadata": {
        "id": "2auHXwuEU3IU"
      },
      "outputs": [],
      "source": [
        "recommendations = npmi.recommend_for_users([YOUR_USER_ID], 10)\n",
        "recommendations = pl.DataFrame({\"item_id\": recommendations[YOUR_USER_ID]}).with_row_index(\"target_order\")\n",
        "recommendations = items.join(recommendations, on=\"item_id\", how=\"inner\").sort(\"target_order\")\n",
        "display.show_posters(recommendations)"
      ]
    },
    {
      "cell_type": "markdown",
      "metadata": {
        "id": "Gap6YVIvU3IU"
      },
      "source": [
        "## Точность NPMI рекомендера:"
      ]
    },
    {
      "cell_type": "code",
      "execution_count": null,
      "metadata": {
        "id": "sC5WKbSKU3IU"
      },
      "outputs": [],
      "source": [
        "print('NPMI Precision@10: ', round(calculate_precision_at_k(npmi, test[:10000], 10), 4))"
      ]
    },
    {
      "cell_type": "markdown",
      "metadata": {
        "id": "VLqEZWViU3IU"
      },
      "source": [
        "# SVD"
      ]
    },
    {
      "cell_type": "markdown",
      "metadata": {
        "id": "dckV5-_VU3IV"
      },
      "source": [
        "<img src=\"https://slideplayer.com/slide/4792782/15/images/9/The+Singular+Value+Decomposition.jpg\" width=\"600\" />\n",
        "\n",
        "Реализуйте метод init и find_similar_items"
      ]
    },
    {
      "cell_type": "code",
      "execution_count": null,
      "metadata": {
        "id": "CQ_CJ8tBU3IV"
      },
      "outputs": [],
      "source": [
        "from scipy.sparse.linalg import svds\n",
        "\n",
        "class SVDRecommender(BaseRecommender):\n",
        "    def __init__(self, actions: pl.DataFrame, n_factors=50):\n",
        "        super().__init__(actions)\n",
        "\n",
        "        # Используйте функцию svds\n",
        "\n",
        "        self.U = ...\n",
        "        self.S = ...\n",
        "        self.Vt = ...\n",
        "\n",
        "    def find_similar_items(self, item_id: str, k: int = 10) -> List[str]:\n",
        "        \"\"\"Поиск похожих элементов через косинусную схожесть\"\"\"\n",
        "        if item_id not in self.item2id:\n",
        "            return []\n",
        "\n",
        "        # Функция должна возвращать List[id] ближайших фильмов\n",
        "\n",
        "        return [...]\n",
        "\n",
        "    def recommend_for_users(self, user_ids: List[str], k: int = 10) -> Dict[str, List[str]]:\n",
        "        \"\"\"Рекомендации для батча пользователей\"\"\"\n",
        "        valid_users = []\n",
        "        user_indices = []\n",
        "\n",
        "        # Фильтрация валидных пользователей\n",
        "        for uid in user_ids:\n",
        "            if uid in self.user2id:\n",
        "                valid_users.append(uid)\n",
        "                user_indices.append(self.user2id[uid])\n",
        "\n",
        "        if not valid_users:\n",
        "            return {}\n",
        "\n",
        "        user_indices = np.array(user_indices)\n",
        "\n",
        "        # Расчет оценок\n",
        "        user_factors = self.U[user_indices]\n",
        "        scores_matrix = (user_factors @ self.S @ self.Vt)\n",
        "\n",
        "        # Получение просмотренных элементов\n",
        "        viewed_items = [set(self._get_user_items(idx)) for idx in user_indices]\n",
        "\n",
        "        recommendations = {}\n",
        "        for i, (uid, scores) in enumerate(zip(valid_users, scores_matrix)):\n",
        "            # Исключаем просмотренные элементы\n",
        "            viewed = viewed_items[i]\n",
        "            valid_scores = [\n",
        "                (item_idx, score)\n",
        "                for item_idx, score in enumerate(scores)\n",
        "                if self.id2item[item_idx] not in viewed\n",
        "            ]\n",
        "\n",
        "            # Сортировка и выбор топ-K\n",
        "            valid_scores.sort(key=lambda x: (-x[1], x[0]))\n",
        "            top_items = [self.id2item[x[0]] for x in valid_scores[:k]]\n",
        "\n",
        "            recommendations[uid] = top_items\n",
        "\n",
        "        return recommendations"
      ]
    },
    {
      "cell_type": "code",
      "execution_count": null,
      "metadata": {
        "scrolled": true,
        "id": "4W8f500_U3IV"
      },
      "outputs": [],
      "source": [
        "svd = SVDRecommender(train_with_you, n_factors=32)"
      ]
    },
    {
      "cell_type": "markdown",
      "metadata": {
        "id": "0w1OOE0fU3IV"
      },
      "source": [
        "## Cмотрим на похожие фильмы:"
      ]
    },
    {
      "cell_type": "code",
      "execution_count": null,
      "metadata": {
        "id": "ECODUrZjU3IV"
      },
      "outputs": [],
      "source": [
        "# Back to the Future: 88763\n",
        "# Spirited away: 245429\n",
        "\n",
        "item_id = 88763\n",
        "\n",
        "recommendations = svd.find_similar_items(item_id, 10)\n",
        "recommendations = pl.DataFrame({\"item_id\": recommendations}).with_row_index(\"target_order\")\n",
        "recommendations = items.join(recommendations, on=\"item_id\", how=\"inner\").sort(\"target_order\")\n",
        "display.show_posters(recommendations)"
      ]
    },
    {
      "cell_type": "markdown",
      "metadata": {
        "id": "0A_9L0rKU3IV"
      },
      "source": [
        "## Персональные рекомендации для тебя:"
      ]
    },
    {
      "cell_type": "code",
      "execution_count": null,
      "metadata": {
        "id": "bKIYAvyxU3IV"
      },
      "outputs": [],
      "source": [
        "recommendations = svd.recommend_for_users([YOUR_USER_ID], 10)\n",
        "recommendations = pl.DataFrame({\"item_id\": recommendations[YOUR_USER_ID]}).with_row_index(\"target_order\")\n",
        "recommendations = items.join(recommendations, on=\"item_id\", how=\"inner\").sort(\"target_order\")\n",
        "display.show_posters(recommendations)"
      ]
    },
    {
      "cell_type": "code",
      "execution_count": null,
      "metadata": {
        "id": "46ZTPSCFU3IW"
      },
      "outputs": [],
      "source": [
        "print('SVD Precision@10: ', round(calculate_precision_at_k(svd, test[:10000], 10), 4))"
      ]
    },
    {
      "cell_type": "markdown",
      "metadata": {
        "id": "V9hjH764U3IW"
      },
      "source": [
        "## Посмотрим на пространство фильмов:"
      ]
    },
    {
      "cell_type": "code",
      "execution_count": null,
      "metadata": {
        "id": "EoURJTdOU3IW"
      },
      "outputs": [],
      "source": [
        "order_df = pl.DataFrame({\"item_id\": svd.id2item}).with_row_index(\"target_order\")\n",
        "names = items.join(order_df, on=\"item_id\", how=\"right\").sort(\"target_order\")['title']\n",
        "\n",
        "log_dir='logs/imdb-example/'\n",
        "\n",
        "if not os.path.exists(log_dir):\n",
        "    os.makedirs(log_dir)\n",
        "\n",
        "with open(os.path.join(log_dir, 'metadata.tsv'), \"w\") as f:\n",
        "  for subwords in names:\n",
        "    f.write(\"{}\\n\".format(subwords))\n",
        "\n",
        "weights = tf.Variable(svd.Vt.T)\n",
        "checkpoint = tf.train.Checkpoint(embedding=weights)\n",
        "checkpoint.save(os.path.join(log_dir, \"embedding.ckpt\"))\n",
        "\n",
        "config = projector.ProjectorConfig()\n",
        "embedding = config.embeddings.add()\n",
        "embedding.tensor_name = \"embedding/.ATTRIBUTES/VARIABLE_VALUE\"\n",
        "embedding.metadata_path = 'metadata.tsv'\n",
        "projector.visualize_embeddings(log_dir, config)"
      ]
    },
    {
      "cell_type": "code",
      "execution_count": null,
      "metadata": {
        "id": "fHj8S9zMU3IW"
      },
      "outputs": [],
      "source": [
        "%load_ext tensorboard\n",
        "%tensorboard --logdir logs/imdb-example/"
      ]
    },
    {
      "cell_type": "code",
      "execution_count": null,
      "metadata": {
        "id": "95Z3D8iaU3IW"
      },
      "outputs": [],
      "source": []
    }
  ],
  "metadata": {
    "colab": {
      "provenance": [],
      "include_colab_link": true
    },
    "kernelspec": {
      "display_name": "Python 3 (ipykernel)",
      "language": "python",
      "name": "python3"
    },
    "language_info": {
      "codemirror_mode": {
        "name": "ipython",
        "version": 3
      },
      "file_extension": ".py",
      "mimetype": "text/x-python",
      "name": "python",
      "nbconvert_exporter": "python",
      "pygments_lexer": "ipython3",
      "version": "3.9.19"
    },
    "widgets": {
      "application/vnd.jupyter.widget-state+json": {
        "f2f1cd63a3274f89851c324b1d8dfdfc": {
          "model_module": "@jupyter-widgets/controls",
          "model_name": "HBoxModel",
          "model_module_version": "1.5.0",
          "state": {
            "_dom_classes": [],
            "_model_module": "@jupyter-widgets/controls",
            "_model_module_version": "1.5.0",
            "_model_name": "HBoxModel",
            "_view_count": null,
            "_view_module": "@jupyter-widgets/controls",
            "_view_module_version": "1.5.0",
            "_view_name": "HBoxView",
            "box_style": "",
            "children": [
              "IPY_MODEL_3b2a48ae6b3b43d288ff7f199b82ee7a",
              "IPY_MODEL_70a03f7b3fe744a6809f7c7c5cdf2be6",
              "IPY_MODEL_2c7e372d03a249f88b70d78eeeb23035"
            ],
            "layout": "IPY_MODEL_d14fea1790334210ae152aa706028388"
          }
        },
        "3b2a48ae6b3b43d288ff7f199b82ee7a": {
          "model_module": "@jupyter-widgets/controls",
          "model_name": "HTMLModel",
          "model_module_version": "1.5.0",
          "state": {
            "_dom_classes": [],
            "_model_module": "@jupyter-widgets/controls",
            "_model_module_version": "1.5.0",
            "_model_name": "HTMLModel",
            "_view_count": null,
            "_view_module": "@jupyter-widgets/controls",
            "_view_module_version": "1.5.0",
            "_view_name": "HTMLView",
            "description": "",
            "description_tooltip": null,
            "layout": "IPY_MODEL_34485a3ccce94f439079ad2444230fcf",
            "placeholder": "​",
            "style": "IPY_MODEL_18d5bb30d103483cbb1d20dfe366d893",
            "value": ""
          }
        },
        "70a03f7b3fe744a6809f7c7c5cdf2be6": {
          "model_module": "@jupyter-widgets/controls",
          "model_name": "FloatProgressModel",
          "model_module_version": "1.5.0",
          "state": {
            "_dom_classes": [],
            "_model_module": "@jupyter-widgets/controls",
            "_model_module_version": "1.5.0",
            "_model_name": "FloatProgressModel",
            "_view_count": null,
            "_view_module": "@jupyter-widgets/controls",
            "_view_module_version": "1.5.0",
            "_view_name": "ProgressView",
            "bar_style": "success",
            "description": "",
            "description_tooltip": null,
            "layout": "IPY_MODEL_a1242cdabd684ef3b45aadc00b2377ef",
            "max": 238950008,
            "min": 0,
            "orientation": "horizontal",
            "style": "IPY_MODEL_31ba011ce29f413c8dc32b281a94208f",
            "value": 238950008
          }
        },
        "2c7e372d03a249f88b70d78eeeb23035": {
          "model_module": "@jupyter-widgets/controls",
          "model_name": "HTMLModel",
          "model_module_version": "1.5.0",
          "state": {
            "_dom_classes": [],
            "_model_module": "@jupyter-widgets/controls",
            "_model_module_version": "1.5.0",
            "_model_name": "HTMLModel",
            "_view_count": null,
            "_view_module": "@jupyter-widgets/controls",
            "_view_module_version": "1.5.0",
            "_view_name": "HTMLView",
            "description": "",
            "description_tooltip": null,
            "layout": "IPY_MODEL_dc075eafe72d452ca15489382cb50aad",
            "placeholder": "​",
            "style": "IPY_MODEL_bbe97cdbfdba485386c214306e3301fe",
            "value": "ml-32m.zip: 100%|██████████████████████████████████████████████████| 239M/239M [00:06&lt;00:00, 46.6MB/s]"
          }
        },
        "d14fea1790334210ae152aa706028388": {
          "model_module": "@jupyter-widgets/base",
          "model_name": "LayoutModel",
          "model_module_version": "1.2.0",
          "state": {
            "_model_module": "@jupyter-widgets/base",
            "_model_module_version": "1.2.0",
            "_model_name": "LayoutModel",
            "_view_count": null,
            "_view_module": "@jupyter-widgets/base",
            "_view_module_version": "1.2.0",
            "_view_name": "LayoutView",
            "align_content": null,
            "align_items": null,
            "align_self": null,
            "border": null,
            "bottom": null,
            "display": null,
            "flex": null,
            "flex_flow": null,
            "grid_area": null,
            "grid_auto_columns": null,
            "grid_auto_flow": null,
            "grid_auto_rows": null,
            "grid_column": null,
            "grid_gap": null,
            "grid_row": null,
            "grid_template_areas": null,
            "grid_template_columns": null,
            "grid_template_rows": null,
            "height": null,
            "justify_content": null,
            "justify_items": null,
            "left": null,
            "margin": null,
            "max_height": null,
            "max_width": null,
            "min_height": null,
            "min_width": null,
            "object_fit": null,
            "object_position": null,
            "order": null,
            "overflow": null,
            "overflow_x": null,
            "overflow_y": null,
            "padding": null,
            "right": null,
            "top": null,
            "visibility": null,
            "width": null
          }
        },
        "34485a3ccce94f439079ad2444230fcf": {
          "model_module": "@jupyter-widgets/base",
          "model_name": "LayoutModel",
          "model_module_version": "1.2.0",
          "state": {
            "_model_module": "@jupyter-widgets/base",
            "_model_module_version": "1.2.0",
            "_model_name": "LayoutModel",
            "_view_count": null,
            "_view_module": "@jupyter-widgets/base",
            "_view_module_version": "1.2.0",
            "_view_name": "LayoutView",
            "align_content": null,
            "align_items": null,
            "align_self": null,
            "border": null,
            "bottom": null,
            "display": null,
            "flex": null,
            "flex_flow": null,
            "grid_area": null,
            "grid_auto_columns": null,
            "grid_auto_flow": null,
            "grid_auto_rows": null,
            "grid_column": null,
            "grid_gap": null,
            "grid_row": null,
            "grid_template_areas": null,
            "grid_template_columns": null,
            "grid_template_rows": null,
            "height": null,
            "justify_content": null,
            "justify_items": null,
            "left": null,
            "margin": null,
            "max_height": null,
            "max_width": null,
            "min_height": null,
            "min_width": null,
            "object_fit": null,
            "object_position": null,
            "order": null,
            "overflow": null,
            "overflow_x": null,
            "overflow_y": null,
            "padding": null,
            "right": null,
            "top": null,
            "visibility": null,
            "width": null
          }
        },
        "18d5bb30d103483cbb1d20dfe366d893": {
          "model_module": "@jupyter-widgets/controls",
          "model_name": "DescriptionStyleModel",
          "model_module_version": "1.5.0",
          "state": {
            "_model_module": "@jupyter-widgets/controls",
            "_model_module_version": "1.5.0",
            "_model_name": "DescriptionStyleModel",
            "_view_count": null,
            "_view_module": "@jupyter-widgets/base",
            "_view_module_version": "1.2.0",
            "_view_name": "StyleView",
            "description_width": ""
          }
        },
        "a1242cdabd684ef3b45aadc00b2377ef": {
          "model_module": "@jupyter-widgets/base",
          "model_name": "LayoutModel",
          "model_module_version": "1.2.0",
          "state": {
            "_model_module": "@jupyter-widgets/base",
            "_model_module_version": "1.2.0",
            "_model_name": "LayoutModel",
            "_view_count": null,
            "_view_module": "@jupyter-widgets/base",
            "_view_module_version": "1.2.0",
            "_view_name": "LayoutView",
            "align_content": null,
            "align_items": null,
            "align_self": null,
            "border": null,
            "bottom": null,
            "display": null,
            "flex": null,
            "flex_flow": null,
            "grid_area": null,
            "grid_auto_columns": null,
            "grid_auto_flow": null,
            "grid_auto_rows": null,
            "grid_column": null,
            "grid_gap": null,
            "grid_row": null,
            "grid_template_areas": null,
            "grid_template_columns": null,
            "grid_template_rows": null,
            "height": null,
            "justify_content": null,
            "justify_items": null,
            "left": null,
            "margin": null,
            "max_height": null,
            "max_width": null,
            "min_height": null,
            "min_width": null,
            "object_fit": null,
            "object_position": null,
            "order": null,
            "overflow": null,
            "overflow_x": null,
            "overflow_y": null,
            "padding": null,
            "right": null,
            "top": null,
            "visibility": null,
            "width": null
          }
        },
        "31ba011ce29f413c8dc32b281a94208f": {
          "model_module": "@jupyter-widgets/controls",
          "model_name": "ProgressStyleModel",
          "model_module_version": "1.5.0",
          "state": {
            "_model_module": "@jupyter-widgets/controls",
            "_model_module_version": "1.5.0",
            "_model_name": "ProgressStyleModel",
            "_view_count": null,
            "_view_module": "@jupyter-widgets/base",
            "_view_module_version": "1.2.0",
            "_view_name": "StyleView",
            "bar_color": null,
            "description_width": ""
          }
        },
        "dc075eafe72d452ca15489382cb50aad": {
          "model_module": "@jupyter-widgets/base",
          "model_name": "LayoutModel",
          "model_module_version": "1.2.0",
          "state": {
            "_model_module": "@jupyter-widgets/base",
            "_model_module_version": "1.2.0",
            "_model_name": "LayoutModel",
            "_view_count": null,
            "_view_module": "@jupyter-widgets/base",
            "_view_module_version": "1.2.0",
            "_view_name": "LayoutView",
            "align_content": null,
            "align_items": null,
            "align_self": null,
            "border": null,
            "bottom": null,
            "display": null,
            "flex": null,
            "flex_flow": null,
            "grid_area": null,
            "grid_auto_columns": null,
            "grid_auto_flow": null,
            "grid_auto_rows": null,
            "grid_column": null,
            "grid_gap": null,
            "grid_row": null,
            "grid_template_areas": null,
            "grid_template_columns": null,
            "grid_template_rows": null,
            "height": null,
            "justify_content": null,
            "justify_items": null,
            "left": null,
            "margin": null,
            "max_height": null,
            "max_width": null,
            "min_height": null,
            "min_width": null,
            "object_fit": null,
            "object_position": null,
            "order": null,
            "overflow": null,
            "overflow_x": null,
            "overflow_y": null,
            "padding": null,
            "right": null,
            "top": null,
            "visibility": null,
            "width": null
          }
        },
        "bbe97cdbfdba485386c214306e3301fe": {
          "model_module": "@jupyter-widgets/controls",
          "model_name": "DescriptionStyleModel",
          "model_module_version": "1.5.0",
          "state": {
            "_model_module": "@jupyter-widgets/controls",
            "_model_module_version": "1.5.0",
            "_model_name": "DescriptionStyleModel",
            "_view_count": null,
            "_view_module": "@jupyter-widgets/base",
            "_view_module_version": "1.2.0",
            "_view_name": "StyleView",
            "description_width": ""
          }
        },
        "73422fa965b54aaeabec0f7070539d2c": {
          "model_module": "@jupyter-widgets/controls",
          "model_name": "HBoxModel",
          "model_module_version": "1.5.0",
          "state": {
            "_dom_classes": [],
            "_model_module": "@jupyter-widgets/controls",
            "_model_module_version": "1.5.0",
            "_model_name": "HBoxModel",
            "_view_count": null,
            "_view_module": "@jupyter-widgets/controls",
            "_view_module_version": "1.5.0",
            "_view_name": "HBoxView",
            "box_style": "",
            "children": [
              "IPY_MODEL_bf4a4b3dca604cc883a64b834e378110",
              "IPY_MODEL_03d7a5a3d3f6406a9841156dbfa66662",
              "IPY_MODEL_22265c79b5d74f3ea5d8270797057648"
            ],
            "layout": "IPY_MODEL_ba6808364a3241c99dbb932de832e610"
          }
        },
        "bf4a4b3dca604cc883a64b834e378110": {
          "model_module": "@jupyter-widgets/controls",
          "model_name": "HTMLModel",
          "model_module_version": "1.5.0",
          "state": {
            "_dom_classes": [],
            "_model_module": "@jupyter-widgets/controls",
            "_model_module_version": "1.5.0",
            "_model_name": "HTMLModel",
            "_view_count": null,
            "_view_module": "@jupyter-widgets/controls",
            "_view_module_version": "1.5.0",
            "_view_name": "HTMLView",
            "description": "",
            "description_tooltip": null,
            "layout": "IPY_MODEL_6dd7e40fbeb94b778a2c0d6eee8266ac",
            "placeholder": "​",
            "style": "IPY_MODEL_538dc70afb7a4638b5678741dbc7fb7d",
            "value": ""
          }
        },
        "03d7a5a3d3f6406a9841156dbfa66662": {
          "model_module": "@jupyter-widgets/controls",
          "model_name": "FloatProgressModel",
          "model_module_version": "1.5.0",
          "state": {
            "_dom_classes": [],
            "_model_module": "@jupyter-widgets/controls",
            "_model_module_version": "1.5.0",
            "_model_name": "FloatProgressModel",
            "_view_count": null,
            "_view_module": "@jupyter-widgets/controls",
            "_view_module_version": "1.5.0",
            "_view_name": "ProgressView",
            "bar_style": "success",
            "description": "",
            "description_tooltip": null,
            "layout": "IPY_MODEL_f211b3254a70466fa926801e7ac3c69d",
            "max": 692950589,
            "min": 0,
            "orientation": "horizontal",
            "style": "IPY_MODEL_0b20993b606d4d87a4ee9dd898f2ca0d",
            "value": 692950589
          }
        },
        "22265c79b5d74f3ea5d8270797057648": {
          "model_module": "@jupyter-widgets/controls",
          "model_name": "HTMLModel",
          "model_module_version": "1.5.0",
          "state": {
            "_dom_classes": [],
            "_model_module": "@jupyter-widgets/controls",
            "_model_module_version": "1.5.0",
            "_model_name": "HTMLModel",
            "_view_count": null,
            "_view_module": "@jupyter-widgets/controls",
            "_view_module_version": "1.5.0",
            "_view_name": "HTMLView",
            "description": "",
            "description_tooltip": null,
            "layout": "IPY_MODEL_fb1628fdc73f4c508bddc7abd2f994c8",
            "placeholder": "​",
            "style": "IPY_MODEL_91eccb995b6245b1b69fb2193b89b55a",
            "value": "anime.zip: 100%|██████████████████████████████████████████████████| 693M/693M [00:12&lt;00:00, 46.8MB/s]"
          }
        },
        "ba6808364a3241c99dbb932de832e610": {
          "model_module": "@jupyter-widgets/base",
          "model_name": "LayoutModel",
          "model_module_version": "1.2.0",
          "state": {
            "_model_module": "@jupyter-widgets/base",
            "_model_module_version": "1.2.0",
            "_model_name": "LayoutModel",
            "_view_count": null,
            "_view_module": "@jupyter-widgets/base",
            "_view_module_version": "1.2.0",
            "_view_name": "LayoutView",
            "align_content": null,
            "align_items": null,
            "align_self": null,
            "border": null,
            "bottom": null,
            "display": null,
            "flex": null,
            "flex_flow": null,
            "grid_area": null,
            "grid_auto_columns": null,
            "grid_auto_flow": null,
            "grid_auto_rows": null,
            "grid_column": null,
            "grid_gap": null,
            "grid_row": null,
            "grid_template_areas": null,
            "grid_template_columns": null,
            "grid_template_rows": null,
            "height": null,
            "justify_content": null,
            "justify_items": null,
            "left": null,
            "margin": null,
            "max_height": null,
            "max_width": null,
            "min_height": null,
            "min_width": null,
            "object_fit": null,
            "object_position": null,
            "order": null,
            "overflow": null,
            "overflow_x": null,
            "overflow_y": null,
            "padding": null,
            "right": null,
            "top": null,
            "visibility": null,
            "width": null
          }
        },
        "6dd7e40fbeb94b778a2c0d6eee8266ac": {
          "model_module": "@jupyter-widgets/base",
          "model_name": "LayoutModel",
          "model_module_version": "1.2.0",
          "state": {
            "_model_module": "@jupyter-widgets/base",
            "_model_module_version": "1.2.0",
            "_model_name": "LayoutModel",
            "_view_count": null,
            "_view_module": "@jupyter-widgets/base",
            "_view_module_version": "1.2.0",
            "_view_name": "LayoutView",
            "align_content": null,
            "align_items": null,
            "align_self": null,
            "border": null,
            "bottom": null,
            "display": null,
            "flex": null,
            "flex_flow": null,
            "grid_area": null,
            "grid_auto_columns": null,
            "grid_auto_flow": null,
            "grid_auto_rows": null,
            "grid_column": null,
            "grid_gap": null,
            "grid_row": null,
            "grid_template_areas": null,
            "grid_template_columns": null,
            "grid_template_rows": null,
            "height": null,
            "justify_content": null,
            "justify_items": null,
            "left": null,
            "margin": null,
            "max_height": null,
            "max_width": null,
            "min_height": null,
            "min_width": null,
            "object_fit": null,
            "object_position": null,
            "order": null,
            "overflow": null,
            "overflow_x": null,
            "overflow_y": null,
            "padding": null,
            "right": null,
            "top": null,
            "visibility": null,
            "width": null
          }
        },
        "538dc70afb7a4638b5678741dbc7fb7d": {
          "model_module": "@jupyter-widgets/controls",
          "model_name": "DescriptionStyleModel",
          "model_module_version": "1.5.0",
          "state": {
            "_model_module": "@jupyter-widgets/controls",
            "_model_module_version": "1.5.0",
            "_model_name": "DescriptionStyleModel",
            "_view_count": null,
            "_view_module": "@jupyter-widgets/base",
            "_view_module_version": "1.2.0",
            "_view_name": "StyleView",
            "description_width": ""
          }
        },
        "f211b3254a70466fa926801e7ac3c69d": {
          "model_module": "@jupyter-widgets/base",
          "model_name": "LayoutModel",
          "model_module_version": "1.2.0",
          "state": {
            "_model_module": "@jupyter-widgets/base",
            "_model_module_version": "1.2.0",
            "_model_name": "LayoutModel",
            "_view_count": null,
            "_view_module": "@jupyter-widgets/base",
            "_view_module_version": "1.2.0",
            "_view_name": "LayoutView",
            "align_content": null,
            "align_items": null,
            "align_self": null,
            "border": null,
            "bottom": null,
            "display": null,
            "flex": null,
            "flex_flow": null,
            "grid_area": null,
            "grid_auto_columns": null,
            "grid_auto_flow": null,
            "grid_auto_rows": null,
            "grid_column": null,
            "grid_gap": null,
            "grid_row": null,
            "grid_template_areas": null,
            "grid_template_columns": null,
            "grid_template_rows": null,
            "height": null,
            "justify_content": null,
            "justify_items": null,
            "left": null,
            "margin": null,
            "max_height": null,
            "max_width": null,
            "min_height": null,
            "min_width": null,
            "object_fit": null,
            "object_position": null,
            "order": null,
            "overflow": null,
            "overflow_x": null,
            "overflow_y": null,
            "padding": null,
            "right": null,
            "top": null,
            "visibility": null,
            "width": null
          }
        },
        "0b20993b606d4d87a4ee9dd898f2ca0d": {
          "model_module": "@jupyter-widgets/controls",
          "model_name": "ProgressStyleModel",
          "model_module_version": "1.5.0",
          "state": {
            "_model_module": "@jupyter-widgets/controls",
            "_model_module_version": "1.5.0",
            "_model_name": "ProgressStyleModel",
            "_view_count": null,
            "_view_module": "@jupyter-widgets/base",
            "_view_module_version": "1.2.0",
            "_view_name": "StyleView",
            "bar_color": null,
            "description_width": ""
          }
        },
        "fb1628fdc73f4c508bddc7abd2f994c8": {
          "model_module": "@jupyter-widgets/base",
          "model_name": "LayoutModel",
          "model_module_version": "1.2.0",
          "state": {
            "_model_module": "@jupyter-widgets/base",
            "_model_module_version": "1.2.0",
            "_model_name": "LayoutModel",
            "_view_count": null,
            "_view_module": "@jupyter-widgets/base",
            "_view_module_version": "1.2.0",
            "_view_name": "LayoutView",
            "align_content": null,
            "align_items": null,
            "align_self": null,
            "border": null,
            "bottom": null,
            "display": null,
            "flex": null,
            "flex_flow": null,
            "grid_area": null,
            "grid_auto_columns": null,
            "grid_auto_flow": null,
            "grid_auto_rows": null,
            "grid_column": null,
            "grid_gap": null,
            "grid_row": null,
            "grid_template_areas": null,
            "grid_template_columns": null,
            "grid_template_rows": null,
            "height": null,
            "justify_content": null,
            "justify_items": null,
            "left": null,
            "margin": null,
            "max_height": null,
            "max_width": null,
            "min_height": null,
            "min_width": null,
            "object_fit": null,
            "object_position": null,
            "order": null,
            "overflow": null,
            "overflow_x": null,
            "overflow_y": null,
            "padding": null,
            "right": null,
            "top": null,
            "visibility": null,
            "width": null
          }
        },
        "91eccb995b6245b1b69fb2193b89b55a": {
          "model_module": "@jupyter-widgets/controls",
          "model_name": "DescriptionStyleModel",
          "model_module_version": "1.5.0",
          "state": {
            "_model_module": "@jupyter-widgets/controls",
            "_model_module_version": "1.5.0",
            "_model_name": "DescriptionStyleModel",
            "_view_count": null,
            "_view_module": "@jupyter-widgets/base",
            "_view_module_version": "1.2.0",
            "_view_name": "StyleView",
            "description_width": ""
          }
        }
      }
    }
  },
  "nbformat": 4,
  "nbformat_minor": 0
}